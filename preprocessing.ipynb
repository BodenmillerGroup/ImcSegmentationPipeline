{
 "cells": [
  {
   "cell_type": "markdown",
   "metadata": {},
   "source": [
    "# Preprocessing of IMC data for image segmentation"
   ]
  },
  {
   "cell_type": "markdown",
   "metadata": {},
   "source": [
    "This script presents the first step of the IMC segmentation pipeline.\n",
    "\n",
    "To get started, please refer to the [Get started guide](docs/index.md).\n",
    "For more information on how to use the `imctools` package, please refer to this [documentation](https://bodenmillergroup.github.io/imctools/).\n",
    "\n",
    "Following this script, you will find an option to download example data.\n",
    "\n",
    "**Requirements for the input data:**\n",
    "\n",
    "We recommend to supply the raw data in form of _one zip archive per acquisition session_.\n",
    "This zip archive should contain the `.mcd` file and all `.txt` files corresponding to one acquisition session.\n",
    "For working with `.txt` files, please look at the older examples.\n",
    "\n",
    "To understand the output format, please refer to the [Output](docs/output.md) documentation.\n",
    "\n",
    "For any feedback please contact: Vito, vito.zanotelli@uzh.ch"
   ]
  },
  {
   "cell_type": "markdown",
   "metadata": {},
   "source": [
    "## Load required libraries\n",
    "\n",
    "In the first step, we will load the python libraries that are required for processing the data."
   ]
  },
  {
   "cell_type": "code",
   "execution_count": 1,
   "metadata": {
    "jupyter": {
     "outputs_hidden": false
    },
    "pycharm": {
     "name": "#%%\n"
    }
   },
   "outputs": [],
   "source": [
    "from imctools.converters import ome2analysis\n",
    "from imctools.converters import ome2histocat\n",
    "from imctools.converters import mcdfolder2imcfolder\n",
    "from imctools.converters import exportacquisitioncsv"
   ]
  },
  {
   "cell_type": "code",
   "execution_count": 2,
   "metadata": {
    "jupyter": {
     "outputs_hidden": false
    },
    "pycharm": {
     "name": "#%%\n"
    }
   },
   "outputs": [],
   "source": [
    "import sys\n",
    "import os\n",
    "import pathlib\n",
    "import shutil\n",
    "import re"
   ]
  },
  {
   "cell_type": "markdown",
   "metadata": {},
   "source": [
    "## (Optional) Obtain the example data\n",
    "\n",
    "Here, a set of example data is downloaded. \n",
    "These can be used to test the pipeline.\n",
    "When using your own data, please ignore the following code chunk."
   ]
  },
  {
   "cell_type": "code",
   "execution_count": 3,
   "metadata": {},
   "outputs": [],
   "source": [
    "import urllib.request\n",
    "\n",
    "# Specify example input directory\n",
    "fol_example = pathlib.Path('example_data')\n",
    "fol_example.mkdir(exist_ok=True)\n",
    "\n",
    "# Specify urls\n",
    "urls = [('20170905_Fluidigmworkshopfinal_SEAJa.zip',\n",
    "         'https://www.dropbox.com/s/awyq9p7n7dexgyt/20170905_Fluidigmworkshopfinal_SEAJa.zip?dl=1') ,\n",
    "        ('20170906_FluidigmONfinal_SE.zip',\n",
    "         'https://www.dropbox.com/s/0pdt1ke4b07v7zd/20170906_FluidigmONfinal_SE.zip?dl=1')]\n",
    "\n",
    "# Download the data to the example input directory\n",
    "for fn, url in urls:\n",
    "    fn = fol_example / fn\n",
    "    if not fn.exists():\n",
    "        urllib.request.urlretrieve(url, fn)"
   ]
  },
  {
   "cell_type": "markdown",
   "metadata": {},
   "source": [
    "## Specify the inputs\n",
    "\n",
    "Here, you will need to specify where the IMC raw data (in form of `.zip` archives) are stored.\n",
    "The `folders_path_inputs` describes the path where the `.zip` archives are located.\n",
    "Here, we use the example data to run the pre-processing part of the pipeline.\n",
    "The `input_file_regexp` parameter specifies a [regular expression](https://docs.python.org/3/library/re.html) to select all files of interest from the input directory.\n",
    "As an example: if you want to select all files that contain the word \"test\", you would use the regular expression `'.*test.*.zip'`.\n",
    "\n",
    "You will also need to specify the location of the panel file (`file_path_panel`) that contains information regarding the column that contains the metal name (`metal_colname`), the column that contains an identifier if the channel should be used for ilastik training (`ilastik_colname`), and the column that contains an identifier if the channel should be used to generate the final stack of channels (`full_colname`). The latter two arguments specify columns which contain 0s or 1s, 1 meaning the indicated channel is used and 0 meaning the channel is not used."
   ]
  },
  {
   "cell_type": "code",
   "execution_count": 10,
   "metadata": {
    "jupyter": {
     "outputs_hidden": false
    },
    "pycharm": {
     "name": "#%%\n"
    }
   },
   "outputs": [],
   "source": [
    "# Path to input folder\n",
    "folders_path_inputs = ['example_data']\n",
    "\n",
    "# Regular expression to select files of interest\n",
    "input_file_regexp = '.*.zip'\n",
    "\n",
    "# Specifications of the panel file\n",
    "file_path_panel = 'config/example_panel.csv'\n",
    "metal_colname = 'Metal Tag'\n",
    "ilastik_colname = 'ilastik'\n",
    "full_colname = 'full'"
   ]
  },
  {
   "cell_type": "markdown",
   "metadata": {},
   "source": [
    "## Specify the outputs\n",
    "\n",
    "You will need to specify a single folder where the output files of the pipeline are written out to.\n",
    "Furthermore, we will need to specify a suffix, which will be added to the names of the `.tiff` stacks that are needed for ilastik training and object measurements (see *Generate image stacks for downstream analysis* section below)."
   ]
  },
  {
   "cell_type": "code",
   "execution_count": 13,
   "metadata": {},
   "outputs": [],
   "source": [
    "# output for OME tiffs\n",
    "folder_path_base = 'analysis'\n",
    "\n",
    "# Suffix to be added to output tiff stacks\n",
    "suffix_full = '_full'\n",
    "suffix_ilastik = '_ilastik'"
   ]
  },
  {
   "cell_type": "markdown",
   "metadata": {},
   "source": [
    "In the next chunk, all sub-folders for the output files are generated automatically."
   ]
  },
  {
   "cell_type": "code",
   "execution_count": 17,
   "metadata": {
    "jupyter": {
     "outputs_hidden": false
    },
    "pycharm": {
     "name": "#%%\n"
    }
   },
   "outputs": [],
   "source": [
    "folder_path_base = pathlib.Path(folder_path_base)\n",
    "folders_path_inputs = [pathlib.Path(f) for f in folders_path_inputs]\n",
    "\n",
    "# Output sub-folders\n",
    "folder_path_tiffs = folder_path_base / 'tiffs'\n",
    "folder_path_ilastik= folder_path_base / 'ilastik'\n",
    "folder_path_ome= folder_path_base / 'ometiff'\n",
    "folder_path_cp = folder_path_base / 'cpout'\n",
    "folder_path_cp_input = folder_path_base / 'cpinp'\n",
    "folder_path_histocat = folder_path_base / 'histocat'\n",
    "\n",
    "# Other output\n",
    "file_path_cp_csv = folder_path_cp / 'panel.csv'\n",
    "file_path_full_channels_csv = folder_path_cp_input / 'full_channelmeta.csv'\n",
    "file_path_ilastik_channels_csv = folder_path_cp_input / 'ilastik_channelmeta.csv'\n",
    "file_path_prob_channels_csv = folder_path_cp_input / 'probab_channelmeta_manual.csv'\n",
    "\n",
    "for fol in [folder_path_base, folder_path_analysis, folder_path_ilastik,\n",
    "            folder_path_ome, folder_path_cp, folder_path_histocat,\n",
    "           folder_path_cp_input]:\n",
    "    if not fol.exists():\n",
    "        fol.mkdir(parents=True)"
   ]
  },
  {
   "cell_type": "markdown",
   "metadata": {},
   "source": [
    "## Convert `.mcd` files to `.ome.tiff` files\n",
    "\n",
    "In the first step, we will convert the `.zip` archives containing `.mcd` files to folders, which contain `.ome.tiff` files, panoramas and slide overviews using the [mcdfolder_to_imcfolder](https://bodenmillergroup.github.io/imctools/converters/mcdfolder2imcfolder.html#imctools.converters.mcdfolder2imcfolder.mcdfolder_to_imcfolder) function. The `.ome.tiff` files can be read in by commercial and open-source software such as ImageJ using the BioFormats importer. \n",
    "We will store files that can't be processed in the `failed_images` list object to allow quality control.\n",
    "At this stage, only images specified by `input_file_regexp` will be processed."
   ]
  },
  {
   "cell_type": "code",
   "execution_count": 6,
   "metadata": {
    "jupyter": {
     "outputs_hidden": false
    },
    "pycharm": {
     "name": "#%%\n"
    }
   },
   "outputs": [
    {
     "name": "stdout",
     "output_type": "stream",
     "text": [
      "20170906_FluidigmONfinal_SE.zip\n",
      "20170905_Fluidigmworkshopfinal_SEAJa.zip\n"
     ]
    }
   ],
   "source": [
    "failed_images = list()\n",
    "re_fn = re.compile(input_file_regexp)\n",
    "\n",
    "for fol in folders_path_inputs:\n",
    "    for fn in fol.glob('*'):\n",
    "        if re_fn.match(fn.name):\n",
    "            \n",
    "            try:\n",
    "                mcdfolder2imcfolder.mcdfolder_to_imcfolder(input=fn, \n",
    "                                                           output_folder=folder_path_ome,\n",
    "                                                           create_zip=False)\n",
    "                print(fn.name)\n",
    "                \n",
    "            except:\n",
    "                print(fn.name + \" can't be processed!\")\n",
    "                failed_images.append(fn.name)"
   ]
  },
  {
   "cell_type": "markdown",
   "metadata": {},
   "source": [
    "We can also now observe the failed conversions:"
   ]
  },
  {
   "cell_type": "code",
   "execution_count": 7,
   "metadata": {},
   "outputs": [
    {
     "name": "stdout",
     "output_type": "stream",
     "text": [
      "[]\n"
     ]
    }
   ],
   "source": [
    "print(failed_images)"
   ]
  },
  {
   "cell_type": "markdown",
   "metadata": {},
   "source": [
    "### Export additional metadata\n",
    "\n",
    "In the next section, we will export the metadata associated with the different acquisitions using the [export_acquisition_csv](https://bodenmillergroup.github.io/imctools/converters/exportacquisitioncsv.html#imctools.converters.exportacquisitioncsv.export_acquisition_csv) function as well as a copy of the panel file."
   ]
  },
  {
   "cell_type": "code",
   "execution_count": 11,
   "metadata": {
    "jupyter": {
     "outputs_hidden": false
    },
    "pycharm": {
     "name": "#%%\n"
    }
   },
   "outputs": [
    {
     "data": {
      "text/plain": [
       "PosixPath('analysis/cpout/panel.csv')"
      ]
     },
     "execution_count": 11,
     "metadata": {},
     "output_type": "execute_result"
    }
   ],
   "source": [
    "# Export acquisition metadata\n",
    "exportacquisitioncsv.export_acquisition_csv(root_folder=folder_path_ome, \n",
    "                                            output_folder=folder_path_cp_input)\n",
    "\n",
    "# Copy panel to output folder\n",
    "shutil.copy(file_path_panel, file_path_cp_csv)"
   ]
  },
  {
   "cell_type": "markdown",
   "metadata": {},
   "source": [
    "## Convert `.ome.tiff` files to `histoCAT` compatible format\n",
    "\n",
    "In the next step, we will convert the generated `.ome.tiff` files to a format that [histoCAT](https://bodenmillergroup.github.io/histoCAT/) can recognize.\n",
    "For each acquistion (each `.ome.tiff` file), the [omefolder_to_histocatfolder](https://bodenmillergroup.github.io/imctools/converters/ome2histocat.html#imctools.converters.ome2histocat.omefolder_to_histocatfolder) function call produces one folder that contains single channel tiff files. Here, all channels contained in the `.ome.tiff` files are written out."
   ]
  },
  {
   "cell_type": "code",
   "execution_count": 12,
   "metadata": {
    "jupyter": {
     "outputs_hidden": false
    },
    "pycharm": {
     "name": "#%%\n"
    }
   },
   "outputs": [],
   "source": [
    "for fol in folder_path_ome.iterdir():\n",
    "    if fol.is_dir():\n",
    "        ome2histocat.omefolder_to_histocatfolder(input_folder=fol, \n",
    "                                                 output_folder=folder_path_histocat)"
   ]
  },
  {
   "cell_type": "markdown",
   "metadata": {},
   "source": [
    "## Generate image stacks for downstream analyses\n",
    "\n",
    "Next, we will generate two stacks of multi-channel `.tiff` images:\n",
    "\n",
    "**1. Full stack:** The full stack contains all channels specified by the \"1\" entries in the `full_colname` column of the panel file. This stack will be later used to measure cell-specific expression features of the selected channels.\n",
    "\n",
    "**2. Ilastik stack:** The ilastik stack contains all channels specified by the \"1\" entries in the `ilastik_colname` column of the panel file. This stack will be used to perform the ilastik training to generate cell, cytoplasm and background probability masks (see [Ilastik training](https://bodenmillergroup.github.io/ImcSegmentationPipeline/ilastik.html)).\n",
    "\n",
    "The [omefolder_to_analysisfolder](https://bodenmillergroup.github.io/imctools/converters/ome2analysis.html#imctools.converters.ome2analysis.omefolder_to_analysisfolder) function takes several arguments:\n",
    "\n",
    "`input_folder` specifies the folder containing the `.ome.tiff` files.  \n",
    "`output_folder` specifies the folder where the `.tiff` stacks should be stored.  \n",
    "`panel_csv_file` specifies the path to the panel file.  \n",
    "`analysis_stacks` takes an array of analysis stack definitions in a tuple format (column, suffix). Here, column specifies the panel column containing 0s and 1s indicating which channels to use and suffix spcifies the suffix to add at the end of the output stacks.\n",
    "`metalcolumn` specifies the panel column that contains the metal tags.\n",
    "\n",
    "We will first generate the stack definition before calling the converter function."
   ]
  },
  {
   "cell_type": "code",
   "execution_count": 16,
   "metadata": {
    "jupyter": {
     "outputs_hidden": false
    },
    "pycharm": {
     "name": "#%%\n"
    }
   },
   "outputs": [],
   "source": [
    "# Define stacks\n",
    "list_analysis_stacks =[\n",
    "    (ilastik_colname, suffix_ilastik),\n",
    "    (full_colname, suffix_full)]\n",
    "\n",
    "# Convert ome.tiffs to tiff stacks\n",
    "ome2analysis.omefolder_to_analysisfolder(input_folder=folder_path_ome, \n",
    "                                         output_folder=folder_path_tiffs, \n",
    "                                         panel_csv_file=file_path_panel,\n",
    "                                         analysis_stacks=(list_analysis_stacks), \n",
    "                                         metalcolumn=metal_colname)"
   ]
  },
  {
   "cell_type": "markdown",
   "metadata": {},
   "source": [
    "### Export additional metadata\n",
    "\n",
    "Finally, we will copy a file that contains the correct order of channels for the exported full stacks and ilastik stacks to the input folder."
   ]
  },
  {
   "cell_type": "code",
   "execution_count": 18,
   "metadata": {},
   "outputs": [
    {
     "data": {
      "text/plain": [
       "PosixPath('analysis/cpinp/ilastik_channelmeta.csv')"
      ]
     },
     "execution_count": 18,
     "metadata": {},
     "output_type": "execute_result"
    }
   ],
   "source": [
    "fn_full = next(folder_path_analysis.glob(f'*{suffix_full}.csv'))\n",
    "fn_ilastik = next(folder_path_analysis.glob(f'*{suffix_ilastik}.csv'))\n",
    "\n",
    "shutil.copy(fn_full, file_path_full_channels_csv)\n",
    "shutil.copy(fn_ilastik, file_path_ilastik_channels_csv)"
   ]
  },
  {
   "cell_type": "markdown",
   "metadata": {},
   "source": [
    "We will also generate channel metadata for the probability stack."
   ]
  },
  {
   "cell_type": "code",
   "execution_count": 19,
   "metadata": {},
   "outputs": [],
   "source": [
    "probab_meta = [\"CellCenter\", \"CellBorder\", \"Background\"]\n",
    "with open(file_path_prob_channels_csv, 'w') as f:\n",
    "    f.write('\\n'.join(probab_meta))"
   ]
  },
  {
   "cell_type": "markdown",
   "metadata": {},
   "source": [
    "This concludes the pre-processing of the raw image files. In [the next step](https://bodenmillergroup.github.io/ImcSegmentationPipeline/ilastik.html), we will prepare the images for ilastik pixel classification."
   ]
  },
  {
   "cell_type": "markdown",
   "metadata": {},
   "source": [
    "## Generate the histocat folder with masks\n",
    "\n",
    "This function can be used to convert the `.ome.tiff` files together with the mask files, which are generated in the [segmentation step](https://bodenmillergroup.github.io/ImcSegmentationPipeline/cellprofiler.html) to a format that is recognized by the `histoCAT` software."
   ]
  },
  {
   "cell_type": "code",
   "execution_count": 1,
   "metadata": {
    "jupyter": {
     "outputs_hidden": false
    },
    "pycharm": {
     "name": "#%%\n"
    }
   },
   "outputs": [],
   "source": [
    "#suffix_mask = '_mask.tiff'\n",
    "#for fol in folder_path_ome.glob('*'):\n",
    "#    ome2histocat.omefolder_to_histocatfolder(fol, folder_path_histocat,\n",
    "#                                    mask_folder=folder_path_analysis, mask_suffix=suffix_mask, dtype='uint16')"
   ]
  }
 ],
 "metadata": {
  "jupytext": {
   "text_representation": {
    "extension": ".py",
    "format_name": "percent",
    "format_version": "1.3",
    "jupytext_version": "1.3.4"
   }
  },
  "kernelspec": {
   "display_name": "Python 3",
   "language": "python",
   "name": "python3"
  },
  "language_info": {
   "codemirror_mode": {
    "name": "ipython",
    "version": 3
   },
   "file_extension": ".py",
   "mimetype": "text/x-python",
   "name": "python",
   "nbconvert_exporter": "python",
   "pygments_lexer": "ipython3",
   "version": "3.8.6"
  }
 },
 "nbformat": 4,
 "nbformat_minor": 4
}
