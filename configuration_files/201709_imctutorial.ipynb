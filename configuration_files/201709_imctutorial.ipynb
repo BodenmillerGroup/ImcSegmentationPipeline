{
 "cells": [
  {
   "cell_type": "code",
   "execution_count": 1,
   "metadata": {
    "collapsed": true
   },
   "outputs": [],
   "source": [
    "from imctools.scripts import ometiff2analysis\n",
    "from imctools.scripts import cropobjects\n",
    "from imctools.scripts import croprandomsection\n",
    "from imctools.scripts import resizeimage\n",
    "from imctools.scripts import generatedistancetospheres\n",
    "from imctools.scripts import imc2tiff\n",
    "from imctools.scripts import ome2micat\n",
    "from imctools.scripts import probablity2uncertainty\n",
    "from imctools.scripts import convertfolder2imcfolder"
   ]
  },
  {
   "cell_type": "code",
   "execution_count": 2,
   "metadata": {
    "collapsed": true
   },
   "outputs": [],
   "source": [
    "import os\n",
    "import re\n",
    "import zipfile"
   ]
  },
  {
   "cell_type": "code",
   "execution_count": 3,
   "metadata": {
    "collapsed": true,
    "scrolled": true
   },
   "outputs": [],
   "source": [
    "%load_ext rpy2.ipython"
   ]
  },
  {
   "cell_type": "markdown",
   "metadata": {},
   "source": [
    "\n",
    "# The IMC preprocessing pipeline for multiplexed image analysis\n"
   ]
  },
  {
   "cell_type": "markdown",
   "metadata": {},
   "source": []
  },
  {
   "cell_type": "code",
   "execution_count": 4,
   "metadata": {
    "collapsed": true
   },
   "outputs": [],
   "source": [
    "# the folders with the txt/mcd files for the analysis\n",
    "\n",
    "# this can be\n",
    "#folders_multiac = '/home/imcuser/Data/20170905_example_dataset/Acquisitions/'\n",
    "#folders = [os.path.join(folders_multiac, fol) for fol in os.listdir(folders_multiac)]\n",
    "folders = ['/home/imcuser/Data/20170905_example_dataset/Acquisitions/20170906_FluidigmONfinal_SE/']\n",
    "\n",
    "# part that all considered files need to have in common\n",
    "common_filepart = '.txt'\n",
    "\n",
    "# output for OME tiffs\n",
    "folder_base = '/home/imcuser/Data/20170905_example_dataset/Analysis'\n",
    "folder_analysis = os.path.join(folder_base, 'tiffs')\n",
    "folder_ilastik = os.path.join(folder_base, 'ilastik')\n",
    "folder_imczip = os.path.join(folder_base, 'imczip')\n",
    "folder_ome = os.path.join(folder_base, 'ometiff')\n",
    "folder_cp = os.path.join(folder_base, 'cpout')\n",
    "folder_histocat = os.path.join(folder_base, 'histocat')\n",
    "folder_uncertainty = os.path.join(folder_base, 'uncertainty')\n",
    "\n",
    "\n",
    "# pannel\n",
    "csv_pannel = '/home/imcuser/Data/20170905_example_dataset/Metadata/20170906_IMCexample_pannel.csv'\n",
    "csv_pannel_metal = 'Metal Tag'\n",
    "csv_pannel_ilastik = 'ilastik'\n",
    "# Explicitly indicates which metals should be used for the full stack\n",
    "csv_pannel_full = 'full'\n",
    "\n",
    "# spillover matrix\n",
    "csv_spillmat = '/home/imcuser/Data/20170905_example_dataset/Metadata/20170707_example_spillmat.csv'\n",
    "csv_spillmatout = os.path.join(folder_analysis,'sm_full')\n",
    "\n",
    "# parameters for resizing the images for ilastik\n",
    "suffix_full = '_full'\n",
    "suffix_ilastik = '_ilastik'\n",
    "suffix_ilastik_scale = '_s2'\n",
    "suffix_mask = '_mask.tiff'\n",
    "suffix_probablities = '_probabilities'\n",
    "\n",
    "\n",
    "failed_images = list()"
   ]
  },
  {
   "cell_type": "markdown",
   "metadata": {},
   "source": [
    "Specify which steps to run"
   ]
  },
  {
   "cell_type": "code",
   "execution_count": 5,
   "metadata": {
    "collapsed": true
   },
   "outputs": [],
   "source": [
    "do_convert_imc = True\n",
    "do_convert_txt = True\n",
    "do_stacks = True\n",
    "do_ilastik = True\n",
    "do_histocat = True"
   ]
  },
  {
   "cell_type": "markdown",
   "metadata": {},
   "source": [
    "Generate all the folders if necessary"
   ]
  },
  {
   "cell_type": "code",
   "execution_count": 6,
   "metadata": {
    "collapsed": true
   },
   "outputs": [],
   "source": [
    "for fol in [folder_base, folder_analysis, folder_ilastik,\n",
    "            folder_imczip, folder_ome, folder_cp, folder_histocat, folder_uncertainty]:\n",
    "    if not os.path.exists(fol):\n",
    "        os.makedirs(fol)"
   ]
  },
  {
   "cell_type": "markdown",
   "metadata": {},
   "source": [
    "Optional Beta feature: Convert folders to _imc.zip folder, containing all the metadata contained in an .mcd"
   ]
  },
  {
   "cell_type": "code",
   "execution_count": 7,
   "metadata": {},
   "outputs": [],
   "source": [
    "if do_convert_imc:\n",
    "    for fol in folders:\n",
    "        try:\n",
    "            convertfolder2imcfolder.convert_folder2imcfolder(fol, folder_imczip)\n",
    "        except:\n",
    "            print('Failed Folder: ' + fol)"
   ]
  },
  {
   "cell_type": "markdown",
   "metadata": {},
   "source": [
    "Convert extract the .txt files to .ome.tiff"
   ]
  },
  {
   "cell_type": "code",
   "execution_count": 8,
   "metadata": {},
   "outputs": [],
   "source": [
    "if do_convert_txt:\n",
    "    for fol in folders:\n",
    "        for fn in os.listdir(fol):\n",
    "            # check if the files already exist, only convert if they do not.\n",
    "            if len([f for f in os.listdir(folder_ome) if (fn.rstrip('.txt').rstrip('.mcd') in f)]) == 0:\n",
    "                if common_filepart in fn: # and 'tuningtape' not in fn:\n",
    "                    txtname = os.path.join(fol, fn)\n",
    "                    try:\n",
    "                        imc2tiff.save_imc_to_tiff(txtname,tifftype='ome', outpath=folder_ome)\n",
    "                        print('Converted : '+fn)\n",
    "                    except:\n",
    "                        failed_images.append(txtname)\n",
    "                        print('Conversion failed: ' + txtname)\n",
    "            "
   ]
  },
  {
   "cell_type": "markdown",
   "metadata": {},
   "source": [
    "Convert ome.tiffs to a HistoCAT compatible format, e.g. to do some visualization and channel checking."
   ]
  },
  {
   "cell_type": "code",
   "execution_count": 9,
   "metadata": {},
   "outputs": [
    {
     "name": "stderr",
     "output_type": "stream",
     "text": [
      "/usr/local/lib/python2.7/dist-packages/tifffile/tifffile.py:452: UserWarning: writing incompatible bigtiff ImageJ\n",
      "  warnings.warn(\"writing incompatible bigtiff ImageJ\")\n"
     ]
    }
   ],
   "source": [
    "if do_histocat:\n",
    "    if not(os.path.exists(folder_histocat)):\n",
    "        os.makedirs(folder_histocat)\n",
    "    ome2micat.omefolder2micatfolder(folder_ome, folder_histocat, dtype='uint16')\n",
    "# The bigtiff warning can be ignored"
   ]
  },
  {
   "cell_type": "markdown",
   "metadata": {},
   "source": [
    "Generate the analysis stacks"
   ]
  },
  {
   "cell_type": "code",
   "execution_count": 10,
   "metadata": {},
   "outputs": [
    {
     "name": "stdout",
     "output_type": "stream",
     "text": [
      "Site2_left_lower_2_3_a0.ome.tiff\n",
      "Site4_lower_right_1_4_a0.ome.tiff\n",
      "Site3_upper_right_1_6_a0.ome.tiff\n",
      "Site4_lower_right_2_5_a0.ome.tiff\n",
      "Site3_upper_right_2_7_a0.ome.tiff\n",
      "Site1_left_upper_2_1_a0.ome.tiff\n",
      "Site1_left_upper_1_0_a0.ome.tiff\n",
      "Site2_left_lower_1_2_a0.ome.tiff\n"
     ]
    }
   ],
   "source": [
    "if do_stacks:\n",
    "    for img in os.listdir(folder_ome):\n",
    "        if not img.endswith('.ome.tiff'):\n",
    "            pass\n",
    "        basename = img.rstrip('.ome.tiff')\n",
    "        print(img)\n",
    "        ometiff2analysis.ometiff_2_analysis(os.path.join(folder_ome, img), folder_analysis, basename+suffix_full,\n",
    "                                           pannelcsv=csv_pannel, metalcolumn=csv_pannel_metal,\n",
    "                                            usedcolumn=csv_pannel_full, bigtiff=False)\n",
    "\n"
   ]
  },
  {
   "cell_type": "markdown",
   "metadata": {},
   "source": [
    "Generate the ilastik stacks"
   ]
  },
  {
   "cell_type": "code",
   "execution_count": 11,
   "metadata": {
    "collapsed": true
   },
   "outputs": [],
   "source": [
    "if do_ilastik:\n",
    "    for img in os.listdir(folder_ome):\n",
    "        if not img.endswith('.ome.tiff'):\n",
    "            pass\n",
    "        basename = img.rstrip('.ome.tiff')\n",
    "        ometiff2analysis.ometiff_2_analysis(os.path.join(folder_ome, img), folder_analysis,\n",
    "                                            basename + suffix_ilastik, pannelcsv=csv_pannel, metalcolumn=csv_pannel_metal,\n",
    "                                            usedcolumn=csv_pannel_ilastik, addsum=True, bigtiff=False)"
   ]
  },
  {
   "cell_type": "markdown",
   "metadata": {},
   "source": [
    "-> Before the next step run the cellprofiler 'ilastik preprocessing' pipeline to generate a stacks for ilastik that are 2x enalarged and have hot pixels removed\n",
    "\n",
    "Then train the Ilastik classifier in 3 classes for pixel segmentation.\n",
    "- Nuclei\n",
    "- Cytoplasm/Membrane\n",
    "- Background\n",
    "\n",
    "Usually it is best to label very sparsely to avoid creating a to large but redundant training data set. After initially painting few pixels, check the uncertainty frequently and only paint pixels with high uncertainty.\n",
    "\n",
    "Once this looks nice for all the cropped sections, batch process the whole images using the code bellow. "
   ]
  },
  {
   "cell_type": "markdown",
   "metadata": {},
   "source": [
    "## Run the ilastik classification as a batch"
   ]
  },
  {
   "cell_type": "code",
   "execution_count": 12,
   "metadata": {
    "collapsed": true
   },
   "outputs": [],
   "source": [
    "fn_ilastikproject = '/home/imcuser/Data/20170905_example_dataset/Analysis/ilastik/cellular_pixel_classification_v1.ilp'\n",
    "bin_ilastik = \"/home/imcuser/Bin/ilastik-1.2.2-Linux/run_ilastik.sh\"\n",
    "n_mb_ram = 7000\n",
    "n_cores = 2"
   ]
  },
  {
   "cell_type": "code",
   "execution_count": 13,
   "metadata": {
    "collapsed": true
   },
   "outputs": [],
   "source": [
    "fn_ilastik_input =os.path.join(folder_analysis,\"*\"+suffix_ilastik_scale+'.tiff')\n",
    "glob_probabilities = os.path.join(folder_analysis,\"{nickname}\"+suffix_probablities+'.tiff')"
   ]
  },
  {
   "cell_type": "code",
   "execution_count": 14,
   "metadata": {
    "scrolled": true
   },
   "outputs": [
    {
     "name": "stdout",
     "output_type": "stream",
     "text": [
      "/home/imcuser/Bin/ilastik-1.2.2-Linux/run_ilastik.sh\n",
      "/home/imcuser/Data/20170905_example_dataset/Analysis/ilastik/cellular_pixel_classification_v1.ilp\n",
      "/home/imcuser/Data/20170905_example_dataset/Analysis/tiffs/{nickname}_probabilities.tiff\n",
      "/home/imcuser/Data/20170905_example_dataset/Analysis/tiffs/Site1_left_upper_1_0_a0_ilastik_s2.tiff /home/imcuser/Data/20170905_example_dataset/Analysis/tiffs/Site1_left_upper_2_1_a0_ilastik_s2.tiff /home/imcuser/Data/20170905_example_dataset/Analysis/tiffs/Site2_left_lower_1_2_a0_ilastik_s2.tiff /home/imcuser/Data/20170905_example_dataset/Analysis/tiffs/Site2_left_lower_2_3_a0_ilastik_s2.tiff /home/imcuser/Data/20170905_example_dataset/Analysis/tiffs/Site3_upper_right_1_6_a0_ilastik_s2.tiff /home/imcuser/Data/20170905_example_dataset/Analysis/tiffs/Site3_upper_right_2_7_a0_ilastik_s2.tiff /home/imcuser/Data/20170905_example_dataset/Analysis/tiffs/Site4_lower_right_1_4_a0_ilastik_s2.tiff /home/imcuser/Data/20170905_example_dataset/Analysis/tiffs/Site4_lower_right_2_5_a0_ilastik_s2.tiff\n",
      "7000\n",
      "2\n",
      "20:46:25\n",
      "Found system libstdc++ version: 3.4.19\n",
      "Found conda  libstdc++ version: 3.4.19\n",
      "INFO lazyflow.operators.vigraOperators: Using fast filters.\n",
      "INFO ilastik_main: Starting ilastik from \"/home/imcuser/Bin/ilastik-1.2.2-Linux\".\n",
      "Starting ilastik from \"/home/imcuser/Bin/ilastik-1.2.2-Linux\".\n",
      "INFO ilastik_main: Resetting lazyflow thread pool with 2 threads.\n",
      "INFO ilastik_main: Configuring lazyflow RAM limit to 6.8GiB\n",
      "INFO lazyflow.utility.memory: Available memory set to 6.8GiB\n",
      "INFO ilastik.shell.projectManager: Opening Project: /home/imcuser/Data/20170905_example_dataset/Analysis/ilastik/cellular_pixel_classification_v1.ilp\n",
      "INFO ilastik.workflows.pixelClassification.pixelClassificationWorkflow: Beginning Batch Processing\n",
      "INFO ilastik.applets.batchProcessing.batchProcessingApplet: Exporting to /home/imcuser/Data/20170905_example_dataset/Analysis/tiffs/Site1_left_upper_1_0_a0_ilastik_s2_probabilities.tiff\n",
      "INFO lazyflow.utility.bigRequestStreamer: Estimated RAM usage per pixel is 2.2KiB * safety factor (2.0)\n",
      "INFO lazyflow.utility.bigRequestStreamer: determining blockshape assuming available_ram is 5.1GiB, split between 2 threads\n",
      "INFO lazyflow.utility.bigRequestStreamer: Chose blockshape: (780, 779, 3)\n",
      "INFO lazyflow.utility.bigRequestStreamer: Estimated RAM usage per block is 2.6GiB\n",
      "DEBUG lazyflow.operators.classifierOperators: Features took 17.026126 seconds, Prediction took 5.021684 seconds for roi: [0, 0, 0] : [780, 779, 3]\n",
      "DEBUG lazyflow.operators.classifierOperators: Features took 0.627009 seconds, Prediction took 1.454903 seconds for roi: [0, 1558, 0] : [780, 1600, 3]\n",
      "DEBUG lazyflow.operators.classifierOperators: Features took 28.101221 seconds, Prediction took 3.99203 seconds for roi: [0, 779, 0] : [780, 1558, 3]\n",
      "DEBUG lazyflow.operators.classifierOperators: Features took 17.712604 seconds, Prediction took 4.59272 seconds for roi: [780, 0, 0] : [1560, 779, 3]\n",
      "DEBUG lazyflow.operators.classifierOperators: Features took 1.130102 seconds, Prediction took 0.343658 seconds for roi: [780, 1558, 0] : [1560, 1600, 3]\n",
      "DEBUG lazyflow.operators.classifierOperators: Features took 2.048777 seconds, Prediction took 0.334411 seconds for roi: [1560, 0, 0] : [1600, 779, 3]\n",
      "DEBUG lazyflow.operators.classifierOperators: Features took 1.929268 seconds, Prediction took 0.348197 seconds for roi: [1560, 779, 0] : [1600, 1558, 3]\n",
      "DEBUG lazyflow.operators.classifierOperators: Features took 1.293078 seconds, Prediction took 0.018806 seconds for roi: [1560, 1558, 0] : [1600, 1600, 3]\n",
      "DEBUG lazyflow.operators.classifierOperators: Features took 23.533243 seconds, Prediction took 3.976819 seconds for roi: [780, 779, 0] : [1560, 1558, 3]\n",
      "INFO ilastik.applets.batchProcessing.batchProcessingApplet: Exporting to /home/imcuser/Data/20170905_example_dataset/Analysis/tiffs/Site1_left_upper_2_1_a0_ilastik_s2_probabilities.tiff\n",
      "INFO lazyflow.utility.bigRequestStreamer: Estimated RAM usage per pixel is 2.2KiB * safety factor (2.0)\n",
      "INFO lazyflow.utility.bigRequestStreamer: determining blockshape assuming available_ram is 5.1GiB, split between 2 threads\n",
      "INFO lazyflow.utility.bigRequestStreamer: Chose blockshape: (780, 779, 3)\n",
      "INFO lazyflow.utility.bigRequestStreamer: Estimated RAM usage per block is 2.6GiB\n",
      "DEBUG lazyflow.operators.classifierOperators: Features took 15.675347 seconds, Prediction took 5.050459 seconds for roi: [0, 0, 0] : [780, 779, 3]\n",
      "DEBUG lazyflow.operators.classifierOperators: Features took 2.795328 seconds, Prediction took 0.356373 seconds for roi: [0, 1558, 0] : [780, 1602, 3]\n",
      "DEBUG lazyflow.operators.classifierOperators: Features took 25.523451 seconds, Prediction took 4.636949 seconds for roi: [0, 779, 0] : [780, 1558, 3]\n",
      "DEBUG lazyflow.operators.classifierOperators: Features took 15.912033 seconds, Prediction took 4.082886 seconds for roi: [780, 0, 0] : [1560, 779, 3]\n",
      "DEBUG lazyflow.operators.classifierOperators: Features took 0.62363 seconds, Prediction took 1.544172 seconds for roi: [780, 1558, 0] : [1560, 1602, 3]\n",
      "DEBUG lazyflow.operators.classifierOperators: Features took 2.159022 seconds, Prediction took 0.332706 seconds for roi: [1560, 0, 0] : [1602, 779, 3]\n",
      "DEBUG lazyflow.operators.classifierOperators: Features took 2.179819 seconds, Prediction took 0.337073 seconds for roi: [1560, 779, 0] : [1602, 1558, 3]\n",
      "DEBUG lazyflow.operators.classifierOperators: Features took 0.221311 seconds, Prediction took 0.019626 seconds for roi: [1560, 1558, 0] : [1602, 1602, 3]\n",
      "DEBUG lazyflow.operators.classifierOperators: Features took 22.170533 seconds, Prediction took 3.864555 seconds for roi: [780, 779, 0] : [1560, 1558, 3]\n",
      "INFO ilastik.applets.batchProcessing.batchProcessingApplet: Exporting to /home/imcuser/Data/20170905_example_dataset/Analysis/tiffs/Site2_left_lower_1_2_a0_ilastik_s2_probabilities.tiff\n",
      "INFO lazyflow.utility.bigRequestStreamer: Estimated RAM usage per pixel is 2.2KiB * safety factor (2.0)\n",
      "INFO lazyflow.utility.bigRequestStreamer: determining blockshape assuming available_ram is 5.1GiB, split between 2 threads\n",
      "INFO lazyflow.utility.bigRequestStreamer: Chose blockshape: (780, 779, 3)\n",
      "INFO lazyflow.utility.bigRequestStreamer: Estimated RAM usage per block is 2.6GiB\n",
      "DEBUG lazyflow.operators.classifierOperators: Features took 15.475938 seconds, Prediction took 5.580852 seconds for roi: [0, 0, 0] : [780, 779, 3]\n",
      "DEBUG lazyflow.operators.classifierOperators: Features took 1.725696 seconds, Prediction took 0.359959 seconds for roi: [0, 1558, 0] : [780, 1602, 3]\n",
      "DEBUG lazyflow.operators.classifierOperators: Features took 25.279718 seconds, Prediction took 4.055573 seconds for roi: [0, 779, 0] : [780, 1558, 3]\n",
      "DEBUG lazyflow.operators.classifierOperators: Features took 17.029417 seconds, Prediction took 5.137081 seconds for roi: [780, 0, 0] : [1560, 779, 3]\n",
      "DEBUG lazyflow.operators.classifierOperators: Features took 0.609806 seconds, Prediction took 1.459283 seconds for roi: [780, 1558, 0] : [1560, 1602, 3]\n",
      "DEBUG lazyflow.operators.classifierOperators: Features took 1.901776 seconds, Prediction took 0.345661 seconds for roi: [1560, 0, 0] : [1602, 779, 3]\n",
      "DEBUG lazyflow.operators.classifierOperators: Features took 0.84064 seconds, Prediction took 0.362494 seconds for roi: [1560, 779, 0] : [1602, 1558, 3]\n",
      "DEBUG lazyflow.operators.classifierOperators: Features took 0.231187 seconds, Prediction took 0.800706 seconds for roi: [1560, 1558, 0] : [1602, 1602, 3]\n",
      "DEBUG lazyflow.operators.classifierOperators: Features took 21.045359 seconds, Prediction took 3.882239 seconds for roi: [780, 779, 0] : [1560, 1558, 3]\n",
      "INFO ilastik.applets.batchProcessing.batchProcessingApplet: Exporting to /home/imcuser/Data/20170905_example_dataset/Analysis/tiffs/Site2_left_lower_2_3_a0_ilastik_s2_probabilities.tiff\n",
      "INFO lazyflow.utility.bigRequestStreamer: Estimated RAM usage per pixel is 2.2KiB * safety factor (2.0)\n",
      "INFO lazyflow.utility.bigRequestStreamer: determining blockshape assuming available_ram is 5.1GiB, split between 2 threads\n",
      "INFO lazyflow.utility.bigRequestStreamer: Chose blockshape: (780, 779, 3)\n",
      "INFO lazyflow.utility.bigRequestStreamer: Estimated RAM usage per block is 2.6GiB\n",
      "DEBUG lazyflow.operators.classifierOperators: Features took 14.989564 seconds, Prediction took 5.160751 seconds for roi: [0, 0, 0] : [780, 779, 3]\n",
      "DEBUG lazyflow.operators.classifierOperators: Features took 1.695124 seconds, Prediction took 0.320797 seconds for roi: [0, 1558, 0] : [780, 1600, 3]\n",
      "DEBUG lazyflow.operators.classifierOperators: Features took 25.574192 seconds, Prediction took 3.901081 seconds for roi: [0, 779, 0] : [780, 1558, 3]\n",
      "DEBUG lazyflow.operators.classifierOperators: Features took 17.152307 seconds, Prediction took 4.258271 seconds for roi: [780, 0, 0] : [1560, 779, 3]\n",
      "DEBUG lazyflow.operators.classifierOperators: Features took 0.596685 seconds, Prediction took 1.462298 seconds for roi: [780, 1558, 0] : [1560, 1600, 3]\n",
      "DEBUG lazyflow.operators.classifierOperators: Features took 0.802868 seconds, Prediction took 2.501056 seconds for roi: [1560, 0, 0] : [1600, 779, 3]\n",
      "DEBUG lazyflow.operators.classifierOperators: Features took 0.772895 seconds, Prediction took 0.328077 seconds for roi: [1560, 779, 0] : [1600, 1558, 3]\n",
      "DEBUG lazyflow.operators.classifierOperators: Features took 0.22115 seconds, Prediction took 0.018566 seconds for roi: [1560, 1558, 0] : [1600, 1600, 3]\n",
      "DEBUG lazyflow.operators.classifierOperators: Features took 20.617176 seconds, Prediction took 3.217069 seconds for roi: [780, 779, 0] : [1560, 1558, 3]\n",
      "INFO ilastik.applets.batchProcessing.batchProcessingApplet: Exporting to /home/imcuser/Data/20170905_example_dataset/Analysis/tiffs/Site3_upper_right_1_6_a0_ilastik_s2_probabilities.tiff\n",
      "INFO lazyflow.utility.bigRequestStreamer: Estimated RAM usage per pixel is 2.2KiB * safety factor (2.0)\n",
      "INFO lazyflow.utility.bigRequestStreamer: determining blockshape assuming available_ram is 5.1GiB, split between 2 threads\n",
      "INFO lazyflow.utility.bigRequestStreamer: Chose blockshape: (780, 779, 3)\n",
      "INFO lazyflow.utility.bigRequestStreamer: Estimated RAM usage per block is 2.6GiB\n",
      "DEBUG lazyflow.operators.classifierOperators: Features took 15.194304 seconds, Prediction took 4.322037 seconds for roi: [0, 0, 0] : [780, 779, 3]\n",
      "DEBUG lazyflow.operators.classifierOperators: Features took 1.765312 seconds, Prediction took 0.347939 seconds for roi: [0, 1558, 0] : [780, 1602, 3]\n",
      "DEBUG lazyflow.operators.classifierOperators: Features took 26.947559 seconds, Prediction took 4.322141 seconds for roi: [0, 779, 0] : [780, 1558, 3]\n",
      "DEBUG lazyflow.operators.classifierOperators: Features took 19.912386 seconds, Prediction took 4.828583 seconds for roi: [780, 0, 0] : [1560, 779, 3]\n",
      "DEBUG lazyflow.operators.classifierOperators: Features took 2.709475 seconds, Prediction took 0.35533 seconds for roi: [780, 1558, 0] : [1560, 1602, 3]\n",
      "DEBUG lazyflow.operators.classifierOperators: Features took 2.577156 seconds, Prediction took 0.340446 seconds for roi: [1560, 0, 0] : [1600, 779, 3]\n",
      "DEBUG lazyflow.operators.classifierOperators: Features took 19.753775 seconds, Prediction took 3.988813 seconds for roi: [780, 779, 0] : [1560, 1558, 3]\n",
      "DEBUG lazyflow.operators.classifierOperators: Features took 1.712083 seconds, Prediction took 0.216035 seconds for roi: [1560, 779, 0] : [1600, 1558, 3]\n",
      "DEBUG lazyflow.operators.classifierOperators: Features took 0.3798 seconds, Prediction took 0.011594 seconds for roi: [1560, 1558, 0] : [1600, 1602, 3]\n",
      "INFO ilastik.applets.batchProcessing.batchProcessingApplet: Exporting to /home/imcuser/Data/20170905_example_dataset/Analysis/tiffs/Site3_upper_right_2_7_a0_ilastik_s2_probabilities.tiff\n",
      "INFO lazyflow.utility.bigRequestStreamer: Estimated RAM usage per pixel is 2.2KiB * safety factor (2.0)\n",
      "INFO lazyflow.utility.bigRequestStreamer: determining blockshape assuming available_ram is 5.1GiB, split between 2 threads\n",
      "INFO lazyflow.utility.bigRequestStreamer: Chose blockshape: (780, 779, 3)\n",
      "INFO lazyflow.utility.bigRequestStreamer: Estimated RAM usage per block is 2.6GiB\n",
      "DEBUG lazyflow.operators.classifierOperators: Features took 16.44642 seconds, Prediction took 4.839305 seconds for roi: [0, 0, 0] : [780, 779, 3]\n",
      "DEBUG lazyflow.operators.classifierOperators: Features took 1.647366 seconds, Prediction took 0.351978 seconds for roi: [0, 1558, 0] : [780, 1602, 3]\n",
      "DEBUG lazyflow.operators.classifierOperators: Features took 25.933305 seconds, Prediction took 4.223838 seconds for roi: [0, 779, 0] : [780, 1558, 3]\n",
      "DEBUG lazyflow.operators.classifierOperators: Features took 16.185025 seconds, Prediction took 4.835447 seconds for roi: [780, 0, 0] : [1560, 779, 3]\n",
      "DEBUG lazyflow.operators.classifierOperators: Features took 2.714207 seconds, Prediction took 0.359172 seconds for roi: [780, 1558, 0] : [1560, 1602, 3]\n",
      "DEBUG lazyflow.operators.classifierOperators: Features took 1.584439 seconds, Prediction took 0.325021 seconds for roi: [1560, 0, 0] : [1600, 779, 3]\n",
      "DEBUG lazyflow.operators.classifierOperators: Features took 20.007204 seconds, Prediction took 3.954542 seconds for roi: [780, 779, 0] : [1560, 1558, 3]\n",
      "DEBUG lazyflow.operators.classifierOperators: Features took 2.367548 seconds, Prediction took 0.329611 seconds for roi: [1560, 779, 0] : [1600, 1558, 3]\n",
      "DEBUG lazyflow.operators.classifierOperators: Features took 0.271258 seconds, Prediction took 0.010696 seconds for roi: [1560, 1558, 0] : [1600, 1602, 3]\n",
      "INFO ilastik.applets.batchProcessing.batchProcessingApplet: Exporting to /home/imcuser/Data/20170905_example_dataset/Analysis/tiffs/Site4_lower_right_1_4_a0_ilastik_s2_probabilities.tiff\n",
      "INFO lazyflow.utility.bigRequestStreamer: Estimated RAM usage per pixel is 2.2KiB * safety factor (2.0)\n",
      "INFO lazyflow.utility.bigRequestStreamer: determining blockshape assuming available_ram is 5.1GiB, split between 2 threads\n",
      "INFO lazyflow.utility.bigRequestStreamer: Chose blockshape: (779, 780, 3)\n",
      "INFO lazyflow.utility.bigRequestStreamer: Estimated RAM usage per block is 2.6GiB\n",
      "DEBUG lazyflow.operators.classifierOperators: Features took 13.983278 seconds, Prediction took 4.649341 seconds for roi: [0, 0, 0] : [779, 780, 3]\n",
      "DEBUG lazyflow.operators.classifierOperators: Features took 0.580769 seconds, Prediction took 0.318015 seconds for roi: [0, 1560, 0] : [779, 1600, 3]\n",
      "DEBUG lazyflow.operators.classifierOperators: Features took 24.096846 seconds, Prediction took 4.00026 seconds for roi: [0, 780, 0] : [779, 1560, 3]\n",
      "DEBUG lazyflow.operators.classifierOperators: Features took 17.065534 seconds, Prediction took 3.925535 seconds for roi: [779, 0, 0] : [1558, 780, 3]\n",
      "DEBUG lazyflow.operators.classifierOperators: Features took 2.716008 seconds, Prediction took 0.321314 seconds for roi: [779, 1560, 0] : [1558, 1600, 3]\n",
      "DEBUG lazyflow.operators.classifierOperators: Features took 2.625592 seconds, Prediction took 0.354169 seconds for roi: [1558, 0, 0] : [1602, 780, 3]\n",
      "DEBUG lazyflow.operators.classifierOperators: Features took 19.788274 seconds, Prediction took 3.931452 seconds for roi: [779, 780, 0] : [1558, 1560, 3]\n",
      "DEBUG lazyflow.operators.classifierOperators: Features took 2.396256 seconds, Prediction took 0.349206 seconds for roi: [1558, 780, 0] : [1602, 1560, 3]\n",
      "DEBUG lazyflow.operators.classifierOperators: Features took 0.269983 seconds, Prediction took 0.010493 seconds for roi: [1558, 1560, 0] : [1602, 1600, 3]\n",
      "INFO ilastik.applets.batchProcessing.batchProcessingApplet: Exporting to /home/imcuser/Data/20170905_example_dataset/Analysis/tiffs/Site4_lower_right_2_5_a0_ilastik_s2_probabilities.tiff\n",
      "INFO lazyflow.utility.bigRequestStreamer: Estimated RAM usage per pixel is 2.2KiB * safety factor (2.0)\n",
      "INFO lazyflow.utility.bigRequestStreamer: determining blockshape assuming available_ram is 5.1GiB, split between 2 threads\n",
      "INFO lazyflow.utility.bigRequestStreamer: Chose blockshape: (780, 779, 3)\n",
      "INFO lazyflow.utility.bigRequestStreamer: Estimated RAM usage per block is 2.6GiB\n",
      "DEBUG lazyflow.operators.classifierOperators: Features took 14.704519 seconds, Prediction took 4.653729 seconds for roi: [0, 0, 0] : [780, 779, 3]\n",
      "DEBUG lazyflow.operators.classifierOperators: Features took 0.60697 seconds, Prediction took 1.33833 seconds for roi: [0, 1558, 0] : [780, 1600, 3]\n",
      "DEBUG lazyflow.operators.classifierOperators: Features took 25.067769 seconds, Prediction took 4.036238 seconds for roi: [0, 779, 0] : [780, 1558, 3]\n",
      "DEBUG lazyflow.operators.classifierOperators: Features took 16.735278 seconds, Prediction took 3.702181 seconds for roi: [780, 0, 0] : [1560, 779, 3]\n",
      "DEBUG lazyflow.operators.classifierOperators: Features took 1.715318 seconds, Prediction took 0.26707 seconds for roi: [780, 1558, 0] : [1560, 1600, 3]\n",
      "DEBUG lazyflow.operators.classifierOperators: Features took 1.855254 seconds, Prediction took 0.294695 seconds for roi: [1560, 0, 0] : [1600, 779, 3]\n",
      "DEBUG lazyflow.operators.classifierOperators: Features took 0.812953 seconds, Prediction took 0.249846 seconds for roi: [1560, 779, 0] : [1600, 1558, 3]\n",
      "DEBUG lazyflow.operators.classifierOperators: Features took 0.224041 seconds, Prediction took 0.015051 seconds for roi: [1560, 1558, 0] : [1600, 1600, 3]\n",
      "DEBUG lazyflow.operators.classifierOperators: Features took 20.098757 seconds, Prediction took 3.312284 seconds for roi: [780, 779, 0] : [1560, 1558, 3]\n",
      "INFO ilastik.workflows.pixelClassification.pixelClassificationWorkflow: Completed Batch Processing\n",
      "20:54:28\n"
     ]
    },
    {
     "name": "stderr",
     "output_type": "stream",
     "text": [
      "WARNING cross_validation.py(44): DeprecationWarning: This module was deprecated in version 0.18 in favor of the model_selection module into which all the refactored classes and functions are moved. Also note that the interface of the new CV iterators are different from that of this module. This module will be removed in 0.20.\n",
      "WARNING 2017-09-14 20:46:49,179 opConservationTracking 11620 139951817070400 Could not find any ILP solver\n",
      "WARNING 2017-09-14 20:46:49,321 opStructuredTracking 11620 139951817070400 Could not find any ILP solver\n",
      "WARNING 2017-09-14 20:46:49,334 structuredTrackingWorkflow 11620 139951817070400 Could not find any learning solver (HYTRA, PGMLINK). Tracking will use flow-based solver (DPCT). Learning for tracking will be disabled!\n",
      "WARNING pkgutil.py(186): ImportWarning: Not importing directory '/home/imcuser/Bin/ilastik-1.2.2-Linux/lib/python2.7/site-packages/mpl_toolkits': missing __init__.py\n"
     ]
    }
   ],
   "source": [
    "%%bash -s \"$bin_ilastik\" \"$fn_ilastikproject\" \"$glob_probabilities\" \"$fn_ilastik_input\" \"$n_mb_ram\" \"$n_cores\"\n",
    "echo $1\n",
    "echo $2\n",
    "echo $3\n",
    "echo $4\n",
    "echo $5\n",
    "echo $6\n",
    "date +\"%T\"\n",
    "LAZYFLOW_TOTAL_RAM_MB=$5 \\\n",
    "LAZYFLOW_THREADS=$6\\\n",
    "    $1 \\\n",
    "    --headless --project=$2 \\\n",
    "    --output_format=tiff \\\n",
    "    --output_filename_format=$3 \\\n",
    "    --export_dtype uint16 --pipeline_result_drange=\"(0.0, 1.0)\" \\\n",
    "    --export_drange=\"(0,65535)\" $4\n",
    "date +\"%T\""
   ]
  },
  {
   "cell_type": "markdown",
   "metadata": {},
   "source": [
    "## Generate the spillovermatrix for cellprofiler compensation"
   ]
  },
  {
   "cell_type": "code",
   "execution_count": 15,
   "metadata": {},
   "outputs": [
    {
     "name": "stderr",
     "output_type": "stream",
     "text": [
      "/usr/local/lib/python2.7/dist-packages/rpy2/rinterface/__init__.py:185: RRuntimeWarning: WARNING: Compensation is likely to be inaccurate.\n",
      "         Spill values for the following interactions\n",
      "         have not been estimated:\n",
      "\n",
      "  warnings.warn(x, RRuntimeWarning)\n",
      "/usr/local/lib/python2.7/dist-packages/rpy2/rinterface/__init__.py:185: RRuntimeWarning: Ru100Di -> Ru102Di\n",
      "\n",
      "  warnings.warn(x, RRuntimeWarning)\n",
      "/usr/local/lib/python2.7/dist-packages/rpy2/rinterface/__init__.py:185: RRuntimeWarning: Ru102Di -> Ru100Di\n",
      "\n",
      "  warnings.warn(x, RRuntimeWarning)\n",
      "/usr/local/lib/python2.7/dist-packages/rpy2/rinterface/__init__.py:185: RRuntimeWarning: Yb176Di -> Er168Di, Er170Di, Lu175Di, Yb171Di, Yb172Di, Yb174Di\n",
      "\n",
      "  warnings.warn(x, RRuntimeWarning)\n",
      "/usr/local/lib/python2.7/dist-packages/rpy2/rinterface/__init__.py:185: RRuntimeWarning: Ir191Di -> Ir193Di\n",
      "\n",
      "  warnings.warn(x, RRuntimeWarning)\n"
     ]
    },
    {
     "data": {
      "text/plain": [
       "[1] 1\n"
      ]
     },
     "metadata": {},
     "output_type": "display_data"
    }
   ],
   "source": [
    "%%R -i csv_pannel -i csv_pannel_metal -i csv_pannel_full -i csv_spillmat -i csv_spillmatout\n",
    "metal_col = make.names(csv_pannel_metal)\n",
    "full_col = make.names(csv_pannel_full)\n",
    "\n",
    "pannel_dat = read.csv(csv_pannel)\n",
    "analysis_channels = pannel_dat[pannel_dat[,full_col] ==T,metal_col]\n",
    "\n",
    "analysis_channels = paste(analysis_channels, 'Di', sep = '')\n",
    "\n",
    "sm = as.matrix(read.csv(csv_spillmat, row.names=1))\n",
    "\n",
    "sm_table = CATALYST::adaptSpillmat(sm, analysis_channels)\n",
    "\n",
    "write.table(sm_table, paste0(csv_spillmatout,'.csv'))\n",
    "tiff::writeTIFF(sm_table, paste0(csv_spillmatout,'.tiff'), bits.per.sample = 32, reduce = T)"
   ]
  },
  {
   "cell_type": "markdown",
   "metadata": {},
   "source": [
    "## convert probabilities to uncertainties"
   ]
  },
  {
   "cell_type": "code",
   "execution_count": 16,
   "metadata": {
    "collapsed": true
   },
   "outputs": [],
   "source": [
    "for fn in os.listdir(folder_analysis):\n",
    "    if fn.endswith(suffix_probablities+'.tiff'):\n",
    "        probablity2uncertainty.probability2uncertainty(os.path.join(folder_analysis,fn), folder_uncertainty)"
   ]
  },
  {
   "cell_type": "markdown",
   "metadata": {},
   "source": [
    "## Generate the micat folder"
   ]
  },
  {
   "cell_type": "code",
   "execution_count": 17,
   "metadata": {
    "collapsed": true
   },
   "outputs": [],
   "source": [
    "if do_histocat:\n",
    "    if not(os.path.exists(folder_histocat)):\n",
    "        os.makedirs(folder_histocat)\n",
    "    ome2micat.omefolder2micatfolder(folder_ome, folder_histocat, fol_masks=folder_cp, mask_suffix=suffix_mask, dtype='uint16')"
   ]
  }
 ],
 "metadata": {
  "kernelspec": {
   "display_name": "Python 2",
   "language": "python",
   "name": "python2"
  },
  "language_info": {
   "codemirror_mode": {
    "name": "ipython",
    "version": 2
   },
   "file_extension": ".py",
   "mimetype": "text/x-python",
   "name": "python",
   "nbconvert_exporter": "python",
   "pygments_lexer": "ipython2",
   "version": "2.7.6"
  }
 },
 "nbformat": 4,
 "nbformat_minor": 1
}
