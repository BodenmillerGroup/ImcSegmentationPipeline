{
 "cells": [
  {
   "cell_type": "raw",
   "metadata": {},
   "outputs": [],
   "source": [
    "---\n",
    "title: \"Adapt spillover matrix for IMC compensation\"\n",
    "author: 'Vito Zanotelli et al.'\n",
    "output:\n",
    "  html_document:\n",
    "    df_print: paged\n",
    "    keep_md: true\n",
    "---"
   ]
  },
  {
   "cell_type": "markdown",
   "metadata": {},
   "outputs": [],
   "source": [
    "# Adapts the spillover matrix for use in CellProfiller"
   ]
  },
  {
   "cell_type": "code",
   "execution_count": 2,
   "metadata": {
    "lines_to_next_cell": 2,
    "name": "Libraries"
   },
   "outputs": [],
   "source": [
    "library(CATALYST)\n",
    "library(tiff)"
   ]
  },
  {
   "cell_type": "markdown",
   "metadata": {
    "lines_to_next_cell": 0
   },
   "outputs": [],
   "source": [
    "##"
   ]
  },
  {
   "cell_type": "code",
   "execution_count": 3,
   "metadata": {
    "lines_to_next_cell": 2,
    "name": "Setup"
   },
   "outputs": [],
   "source": [
    "fn_sm = snakemake@input$fn_sm_mat\n",
    "# a csv with a list of metals used, generated from the IMC preprocessing ipython notebook:\n",
    "fns_imc_metals = list.files(snakemake@input$fol_csvs, pattern = '.*\\\\.csv$',full.names = T)\n",
    "fol_out = snakemake@output$fol_out\n",
    "prefix_out =  '_sm'\n"
   ]
  },
  {
   "cell_type": "code",
   "execution_count": 4,
   "metadata": {
    "pycharm": {
     "name": "#%%\n"
    }
   },
   "outputs": [],
   "source": [
    "dir.create(fol_out,recursive = T)"
   ]
  },
  {
   "cell_type": "markdown",
   "metadata": {
    "lines_to_next_cell": 0,
    "pycharm": {
     "name": "#%% md\n"
    }
   },
   "outputs": [],
   "source": [
    "Write the spillover matrix for cellprofier"
   ]
  },
  {
   "cell_type": "code",
   "execution_count": 5,
   "metadata": {
    "lines_to_next_cell": 2,
    "pycharm": {
     "name": "#%%\n"
    }
   },
   "outputs": [],
   "source": [
    "sm = read.csv(fn_sm, row.names = 1)\n",
    "analysis_channels = read.csv(fns_imc_metals[1],header = F)\n",
    "analysis_channels = paste(as.character(analysis_channels$V1), 'Di', sep = '')"
   ]
  },
  {
   "cell_type": "markdown",
   "metadata": {
    "pycharm": {
     "name": "#%% md\n"
    }
   },
   "outputs": [],
   "source": [
    "Adapt matrix to panel"
   ]
  },
  {
   "cell_type": "code",
   "execution_count": 6,
   "metadata": {},
   "outputs": [],
   "source": [
    "sm[sm>1]=1\n",
    "sm = sm[row.names(sm) %in% analysis_channels,colnames(sm) %in% analysis_channels]\n",
    "sm_table = CATALYST::adaptSpillmat(input_sm = as.matrix(sm), out_chs = analysis_channels)"
   ]
  },
  {
   "cell_type": "markdown",
   "metadata": {
    "lines_to_next_cell": 0
   },
   "outputs": [],
   "source": [
    "Writes out a 32bit tiff that can be used in CellProfiller together with the \"CorrectSpilloverApply\" module"
   ]
  },
  {
   "cell_type": "code",
   "execution_count": 7,
   "metadata": {},
   "outputs": [],
   "source": [
    "fol_out"
   ]
  },
  {
   "cell_type": "code",
   "execution_count": 8,
   "metadata": {
    "lines_to_next_cell": 0
   },
   "outputs": [],
   "source": [
    "for (fn in fns_imc_metals){\n",
    "    fn_out = file.path(fol_out, sub('\\\\.csv$', paste0(prefix_out,'.tiff'),basename(fn)))\n",
    "    tiff::writeTIFF(sm_table, fn_out, bits.per.sample = 32, reduce = T)\n",
    "}\n",
    "\n"
   ]
  },
  {
   "cell_type": "code",
   "execution_count": 9,
   "metadata": {},
   "outputs": [],
   "source": [
    "print(length(analysis_channels))\n",
    "nrow(sm_table)\n",
    "sm_table"
   ]
  },
  {
   "cell_type": "code",
   "execution_count": null,
   "outputs": [],
   "source": [
    "sessionInfo()\n"
   ],
   "metadata": {
    "collapsed": false,
    "pycharm": {
     "name": "#%%\n"
    }
   }
  },
  {
   "cell_type": "code",
   "execution_count": null,
   "outputs": [],
   "source": [],
   "metadata": {
    "collapsed": false,
    "pycharm": {
     "name": "#%%\n"
    }
   }
  },
  {
   "cell_type": "code",
   "execution_count": 10,
   "metadata": {
    "pycharm": {
     "name": "#%%\n"
    }
   },
   "outputs": [],
   "source": []
  },
  {
   "cell_type": "code",
   "execution_count": null,
   "metadata": {},
   "outputs": [],
   "source": []
  }
 ],
 "metadata": {
  "jupytext": {
   "cell_metadata_filter": "name,-all",
   "formats": "Rmd,ipynb",
   "notebook_metadata_filter": "-all",
   "text_representation": {
    "extension": ".Rmd",
    "format_name": "rmarkdown"
   }
  },
  "kernelspec": {
   "display_name": "R",
   "language": "R",
   "name": "ir"
  },
  "language_info": {
   "codemirror_mode": "r",
   "file_extension": ".r",
   "mimetype": "text/x-r-source",
   "name": "R",
   "pygments_lexer": "r",
   "version": "3.6.3"
  }
 },
 "nbformat": 4,
 "nbformat_minor": 4
}