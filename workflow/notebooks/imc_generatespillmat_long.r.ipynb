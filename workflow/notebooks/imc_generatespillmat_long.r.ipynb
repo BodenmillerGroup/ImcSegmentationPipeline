{
 "cells": [
  {
   "cell_type": "raw",
   "metadata": {},
   "outputs": [],
   "source": [
    "---\n",
    "title: \"Spillover estimation IMC\"\n",
    "author: 'Vito Zanotelli et al.'\n",
    "output:\n",
    "  html_document:\n",
    "    df_print: paged\n",
    "    keep_md: true\n",
    "---"
   ]
  },
  {
   "cell_type": "markdown",
   "metadata": {
    "lines_to_next_cell": 0
   },
   "outputs": [],
   "source": [
    "# Aim\n",
    "This script shows how to estimate spillover from single metal spots on an agarose coated slide.\n",
    "Each spot should be imaged with a single acquisition. The name of the acquisition should be the metal that is used:\n",
    "E.g. PanormaA_1_Yb176_23.txt\n",
    "\n",
    "When run with the example data it reproduces the spillover estimation shown in Fig S5A as well as Fig 4A\n",
    "\n",
    "# Script\n",
    "## load all libraries"
   ]
  },
  {
   "cell_type": "code",
   "execution_count": 2,
   "metadata": {
    "lines_to_next_cell": 2,
    "message": false,
    "name": "Libraries"
   },
   "outputs": [],
   "source": [
    "library(CATALYST)\n",
    "library(data.table)\n",
    "library(ggplot2)\n",
    "library(flowCore)\n",
    "library(dplyr)\n",
    "library(dtplyr)\n",
    "library(stringr)\n",
    "library(ggpmisc)"
   ]
  },
  {
   "cell_type": "code",
   "execution_count": 3,
   "metadata": {},
   "outputs": [],
   "source": [
    "source('workflow/scripts/utils_compensation/spillover_imc_helpers.R')"
   ]
  },
  {
   "cell_type": "markdown",
   "metadata": {
    "lines_to_next_cell": 0
   },
   "outputs": [],
   "source": [
    "## setup the configuration variables"
   ]
  },
  {
   "cell_type": "code",
   "execution_count": 4,
   "metadata": {
    "name": "Setup"
   },
   "outputs": [],
   "source": [
    "# list of folders that contain each a complete single stain acquisition (e.g. in case that one wants to run and compare multiple single stains from different days)\n",
    "fols_ss = snakemake@input$fns_compensation\n",
    "\n",
    "# needsto contain all the channels used for the single stains\n",
    "fns_pannel = c(snakemake@input$fn_ss_panel)\n",
    "\n",
    "# output folder\n",
    "fol_out = '../../figures/'\n",
    "# name prefix for all output\n",
    "prefix ='spill_'"
   ]
  },
  {
   "cell_type": "code",
   "execution_count": 5,
   "metadata": {
    "lines_to_next_cell": 2
   },
   "outputs": [],
   "source": [
    "dat_pannel = rbindlist(lapply(fns_pannel, function(fn) fread(fn, header = F)), fill=T)\n",
    "setnames(dat_pannel, 'metal')\n",
    "                              \n",
    "ss_mass = unique(dat_pannel[, list(mass=as.numeric(str_extract_all(.BY[[1]], \"[0-9]+\")[[1]])), metal]$mass)"
   ]
  },
  {
   "cell_type": "markdown",
   "metadata": {
    "lines_to_next_cell": 0
   },
   "outputs": [],
   "source": [
    "## load single stains\n",
    "### Data loading"
   ]
  },
  {
   "cell_type": "code",
   "execution_count": 6,
   "metadata": {
    "jupyter": {
     "outputs_hidden": true
    },
    "lines_to_next_cell": 0
   },
   "outputs": [],
   "source": [
    "# load the data\n",
    "list_img_ss <-lapply(fols_ss, load_ss_zip)\n",
    "#list_img_ss = rbindlist(list_img_ss)\n",
    "names(list_img_ss) <- fols_ss[1]"
   ]
  },
  {
   "cell_type": "markdown",
   "metadata": {
    "lines_to_next_cell": 0
   },
   "outputs": [],
   "source": [
    "### Adapt the column names to be recognized metal names by CATALYST \n",
    "CATALYST needs to have the metal names in the format (METAL)(MASS)Di"
   ]
  },
  {
   "cell_type": "code",
   "execution_count": 7,
   "metadata": {
    "lines_to_next_cell": 2
   },
   "outputs": [],
   "source": [
    "list_img_ss = lapply(list_img_ss, function(x) lapply(x, fixnames))\n",
    "dats_raw = lapply(list_img_ss, imglist2dat)\n",
    "\n",
    "# this makes this script ignore the fact that the singlestains come from different acquisitions.\n",
    "dats_raw = list('singlestains'=rbindlist(dats_raw))"
   ]
  },
  {
   "cell_type": "markdown",
   "metadata": {
    "lines_to_next_cell": 0
   },
   "outputs": [],
   "source": [
    "### Extract the single stain masses from the acquisition name\n",
    "This needs to be changed in case a different naming scheme is used!"
   ]
  },
  {
   "cell_type": "code",
   "execution_count": 8,
   "metadata": {
    "name": "Get bc masses"
   },
   "outputs": [],
   "source": [
    "for (dat in dats_raw){\n",
    "  dat[, metal:= strsplit(.BY[[1]], '_')[[1]][3],by=file]\n",
    "  dat[, mass:= as.numeric(str_extract_all(.BY[[1]], \"[0-9]+\")[[1]]),by=metal]\n",
    "}"
   ]
  },
  {
   "cell_type": "markdown",
   "metadata": {
    "lines_to_next_cell": 0
   },
   "outputs": [],
   "source": [
    "## Visualization of the raw data\n",
    "In the following section the raw data is visualized\n",
    "\n",
    "### Calculate per-file medians"
   ]
  },
  {
   "cell_type": "code",
   "execution_count": 9,
   "metadata": {
    "lines_to_next_cell": 2
   },
   "outputs": [],
   "source": [
    "dats_raw_sum = rbindlist(lapply(dats_raw, calc_file_medians),idcol = T)"
   ]
  },
  {
   "cell_type": "markdown",
   "metadata": {
    "lines_to_next_cell": 0
   },
   "outputs": [],
   "source": [
    "### Visualize per-file medians\n",
    "Plots the median of the data. It is recommended to have >200 counts for all the channels.\n",
    "This is also a good plot to check if the metal spots really contain the correct metal!"
   ]
  },
  {
   "cell_type": "code",
   "execution_count": 10,
   "metadata": {
    "fig.height": 13,
    "fig.width": 20,
    "lines_to_next_cell": 0
   },
   "outputs": [],
   "source": [
    "dats_raw_sum %>%\n",
    "  ggplot(aes(x=1, y=med, color=.id))+\n",
    "  facet_wrap(~file+metal, scales = 'free_y')+\n",
    "  geom_label(aes(label=variable), size=4)"
   ]
  },
  {
   "cell_type": "markdown",
   "metadata": {},
   "outputs": [],
   "source": [
    "###  Optional data bining\n",
    "\n",
    "If the median per-pixel intensities are to low, it could be worth to sum up some consecuteive pixels to get a better accuracy for the estimation\n",
    "(here not the case). This is valid because for segmentation based quantitative image analysis usually anyways pixels are aggregated. If the binning is choosen to big, there is however a potential accumulation of background noise."
   ]
  },
  {
   "cell_type": "code",
   "execution_count": 11,
   "metadata": {
    "lines_to_next_cell": 2
   },
   "outputs": [],
   "source": [
    "# defines over how many pixels the aggregation should happen\n",
    "# 1 = no aggregation\n",
    "npixelbin = 10\n",
    "\n",
    "dats_agg <- lapply(dats_raw, function(x) aggregate_pixels(x, n=npixelbin))\n",
    "dats_agg_sum = rbindlist(lapply(dats_agg, calc_file_medians), idcol = T)"
   ]
  },
  {
   "cell_type": "markdown",
   "metadata": {
    "lines_to_next_cell": 0
   },
   "outputs": [],
   "source": [
    "### Visualize per-file medians after binning\n",
    "The intensities increase according to the aggregation factor"
   ]
  },
  {
   "cell_type": "code",
   "execution_count": 12,
   "metadata": {
    "fig.height": 25,
    "fig.width": 17,
    "lines_to_next_cell": 2
   },
   "outputs": [],
   "source": [
    "dats_agg_sum %>%\n",
    "  ggplot(aes(x=1, y=med, color=.id))+\n",
    "  facet_wrap(~file+metal, scales = 'free_y', ncol=3)+\n",
    "  geom_label(aes(label=variable))\n"
   ]
  },
  {
   "cell_type": "markdown",
   "metadata": {},
   "outputs": [],
   "source": [
    "## CATALYST based compensation"
   ]
  },
  {
   "cell_type": "markdown",
   "metadata": {},
   "outputs": [],
   "source": [
    "## estimate the spillover\n",
    "To estimate the spillover, the (aggregated) pixel values are first debarcoded using CATALYST, treating them like single cells. This step acts as a quality filter to remove background/noisy/weak pixels as well as pixels with artefacts (e.g. specles with strong signal in many channels).\n",
    "If the true metal was correctly encoded in the filename, the 'remove_incorrect_bc' option will check the debarcoding and remove events assigned to the wrong barcode.\n",
    "\n",
    "Then this identified, strong single stain pixels will be used for the spillover estimation."
   ]
  },
  {
   "cell_type": "code",
   "execution_count": 13,
   "metadata": {
    "lines_to_next_cell": 0,
    "name": "Binned"
   },
   "outputs": [],
   "source": [
    "res = lapply(dats_agg, function(x) re_from_dat(x,\n",
    "                                               ss_ms=ss_mass,\n",
    "                                               minevents = 40,\n",
    "                                              correct_bc = F))\n",
    "sms = lapply(res, function(x) computeSpillmat(x, method='classic'))\n",
    "\n"
   ]
  },
  {
   "cell_type": "code",
   "execution_count": 14,
   "metadata": {},
   "outputs": [],
   "source": [
    "sm = sms[[1]]"
   ]
  },
  {
   "cell_type": "markdown",
   "metadata": {},
   "outputs": [],
   "source": [
    "### save the spillover matrix"
   ]
  },
  {
   "cell_type": "code",
   "execution_count": 15,
   "metadata": {
    "lines_to_next_cell": 0
   },
   "outputs": [],
   "source": [
    "write.csv(sm,file = snakemake@output[[1]])"
   ]
  },
  {
   "cell_type": "code",
   "execution_count": null,
   "metadata": {
    "lines_to_next_cell": 2
   },
   "outputs": [],
   "source": []
  },
  {
   "cell_type": "markdown",
   "metadata": {},
   "outputs": [],
   "source": [
    "### Visualization of the spillover matrix"
   ]
  },
  {
   "cell_type": "raw",
   "metadata": {
    "lines_to_next_cell": 2
   },
   "outputs": [],
   "source": [
    "for (i in seq_along(sms)){\n",
    "  print(names(dats_agg)[i])\n",
    "  ss_ms = ss_mass\n",
    "  p = CATALYST::plotSpillmat(ss_ms,sms[[i]])\n",
    "  print(p)\n",
    "}"
   ]
  },
  {
   "cell_type": "markdown",
   "metadata": {},
   "outputs": [],
   "source": [
    "### Some quality indicators\n",
    "\n",
    "Here we calculate e.g. number of debarcoded events/metal, median levels of highest signal and second highest signal after subtracting background"
   ]
  },
  {
   "cell_type": "code",
   "execution_count": 16,
   "metadata": {
    "lines_to_next_cell": 0,
    "scrolled": false
   },
   "outputs": [],
   "source": [
    "\n",
    "for (i in seq_along(res)){\n",
    "  \n",
    "  dat = dats_agg[[i]]\n",
    "  re = res[[i]]\n",
    "  \n",
    "  name = names(dats_agg)[i]\n",
    "  tdat = dat %>%\n",
    "    mutate(bcid = bc_ids(re)) %>%\n",
    "    filter(bcid != '0') %>%\n",
    "    dplyr::select(-c(Start_push, End_push, Pushes_duration,   X , Y  ,Z)) %>%\n",
    "  melt.data.table(id.vars = c('metal', 'mass','file', 'bcid')) %>%\n",
    "  do(data.table(.)[, list(med=median(value), n=.N), by=.(variable, metal, mass, bcid,file)]) \n",
    "  \n",
    "  tdat[, overall_med:= median(med), by='variable']\n",
    "  tdat[, med:=med-overall_med]\n",
    "  # find the highest metal, second highest metal after subtracting background (=overal median)\n",
    "  sumdat = tdat[ , .(\n",
    "    highestvariable = variable[med == max(med)],\n",
    "    highestmed = max(med),\n",
    "    secondhighestvariable = variable[med == sort(med,partial=length(med)-1)[length(med)-1]],\n",
    "    secondhighestmed = sort(med,partial=length(med)-1)[length(med)-1],\n",
    "    thirdhighestvariable = variable[med == sort(med,partial=length(med)-2)[length(med)-2]],\n",
    "    thirdhighestmed = sort(med,partial=length(med)-2)[length(med)-2],\n",
    "    n=max(n)\n",
    "  )  ,by=.( mass, bcid,file)]\n",
    "  \n",
    "  print(sumdat)\n",
    "}\n"
   ]
  },
  {
   "cell_type": "raw",
   "metadata": {},
   "outputs": [],
   "source": [
    "\n"
   ]
  },
  {
   "cell_type": "code",
   "execution_count": 17,
   "metadata": {},
   "outputs": [],
   "source": [
    "sessionInfo()"
   ]
  }
 ],
 "metadata": {
  "jupytext": {
   "cell_metadata_filter": "fig.width,name,message,fig.height,-all",
   "formats": "Rmd,ipynb",
   "notebook_metadata_filter": "-all",
   "text_representation": {
    "extension": ".Rmd",
    "format_name": "rmarkdown"
   }
  },
  "kernelspec": {
   "display_name": "R",
   "language": "R",
   "name": "ir"
  },
  "language_info": {
   "codemirror_mode": "r",
   "file_extension": ".r",
   "mimetype": "text/x-r-source",
   "name": "R",
   "pygments_lexer": "r",
   "version": "3.6.3"
  }
 },
 "nbformat": 4,
 "nbformat_minor": 4
}
