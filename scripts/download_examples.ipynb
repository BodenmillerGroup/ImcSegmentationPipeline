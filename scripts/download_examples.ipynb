{
 "cells": [
  {
   "cell_type": "markdown",
   "id": "2d7e5475",
   "metadata": {},
   "source": [
    "\n",
    "# Download IMC example data\n"
   ]
  },
  {
   "cell_type": "markdown",
   "id": "a17734dd-4681-482f-ae1e-cdb3c8eb18bf",
   "metadata": {},
   "source": [
    "This script downloads IMC example raw data, a fully trained `ilastik` pixel classifier and the used panel file. The IMC raw data will be stored in the `raw` folder together with the panel file. The ilastik project will be stored in the project root."
   ]
  },
  {
   "cell_type": "code",
   "execution_count": null,
   "id": "83673a33",
   "metadata": {},
   "outputs": [],
   "source": [
    "from pathlib import Path\n",
    "from urllib import request\n",
    "\n",
    "raw_folder = Path(\"../raw\")\n",
    "raw_folder.mkdir(exist_ok=True, parents=True)\n",
    "\n",
    "# Raw data and panel\n",
    "for example_file_name, example_file_url in [\n",
    "    (\n",
    "        \"Patient1.zip\",\n",
    "        \"https://zenodo.org/record/5949116/files/Patient1.zip\",\n",
    "    ),\n",
    "    (\n",
    "        \"Patient2.zip\",\n",
    "        \"https://zenodo.org/record/5949116/files/Patient2.zip\",\n",
    "    ),\n",
    "    (\n",
    "        \"Patient3.zip\",\n",
    "        \"https://zenodo.org/record/5949116/files/Patient3.zip\",\n",
    "    ),\n",
    "    (\n",
    "        \"Patient4.zip\",\n",
    "        \"https://zenodo.org/record/5949116/files/Patient4.zip\",\n",
    "    ),\n",
    "    (\n",
    "        \"panel.csv\",\n",
    "        \"https://zenodo.org/record/5949116/files/panel.csv\",\n",
    "    )\n",
    "]:\n",
    "    example_file = raw_folder / example_file_name\n",
    "    if not example_file.exists():\n",
    "        request.urlretrieve(example_file_url, example_file)\n",
    "        \n",
    "# Ilastik project\n",
    "ilastik_project = Path(\"..\") / \"IMCWorkflow.ilp\"\n",
    "if not ilastik_project.exists():\n",
    "    request.urlretrieve(\"https://zenodo.org/record/6043544/files/IMCWorkflow.ilp\", ilastik_project)"
   ]
  },
  {
   "cell_type": "code",
   "execution_count": null,
   "id": "5cebbf89",
   "metadata": {},
   "outputs": [],
   "source": [
    "!conda list"
   ]
  }
 ],
 "metadata": {
  "jupytext": {
   "cell_metadata_filter": "-all",
   "formats": "auto:percent,ipynb",
   "notebook_metadata_filter": "-all"
  },
  "kernelspec": {
   "display_name": "Python 3 (ipykernel)",
   "language": "python",
   "name": "python3"
  },
  "language_info": {
   "codemirror_mode": {
    "name": "ipython",
    "version": 3
   },
   "file_extension": ".py",
   "mimetype": "text/x-python",
   "name": "python",
   "nbconvert_exporter": "python",
   "pygments_lexer": "ipython3",
   "version": "3.9.10"
  }
 },
 "nbformat": 4,
 "nbformat_minor": 5
}
