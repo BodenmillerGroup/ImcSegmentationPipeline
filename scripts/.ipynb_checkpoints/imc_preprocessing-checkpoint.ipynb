{
 "cells": [
  {
   "cell_type": "code",
   "execution_count": 1,
   "metadata": {},
   "outputs": [],
   "source": [
    "from imctools.scripts import ometiff2analysis\n",
    "from imctools.scripts import imc2tiff\n",
    "from imctools.scripts import ome2micat\n",
    "from imctools.scripts import probablity2uncertainty\n",
    "from imctools.scripts import convertfolder2imcfolder\n",
    "from imctools.scripts import exportacquisitioncsv"
   ]
  },
  {
   "cell_type": "code",
   "execution_count": 2,
   "metadata": {},
   "outputs": [],
   "source": [
    "import os\n",
    "import logging\n",
    "import re\n",
    "import zipfile"
   ]
  },
  {
   "cell_type": "markdown",
   "metadata": {},
   "source": [
    "\n",
    "# IMC preprocessing pipeline for multiplexed image analysis\n"
   ]
  },
  {
   "cell_type": "markdown",
   "metadata": {},
   "source": [
    "**This pipeline is used to segment IMC data using ilastik pixel classification and CellProfiler.**\n",
    "It allows conversion of IMC raw data (MCD files) into standardized OME-TIFF files. From this the files are processed via a combination of customized CellProfiler modules and supervised machine learning as implemented with Ilastik, allowing a state-of-the-art image segmentation and single cell feature extraction. The segmented single cell data can then be exported for direct use in HistoCAT or HistoCAT++ software as well as customized statistical data analysis scripts based on R or Python.\n",
    "\n",
    "The theoretical concepts behind this preprocessing pipeline are explained in `ImcSegmentationPipeline/documentation/imcsegmentationpipeline_documentation.pdf`\n",
    "\n",
    "#### Requirements\n",
    "- **CellProfiler** 3.1.8: http://cellprofiler.org/releases/\n",
    "- **ilastik** 1.3.2: https://www.ilastik.org/download.html/\n",
    "- **Anaconda** (Python 3.7): https://www.anaconda.com/distribution/\n",
    "\n",
    "- The following **Github** repositories (either Clone (using command line git or the github deskop client: https://desktop.github.com/) OR download and unzip these repositories to a local folder):\n",
    "    - **ImcPluginsCP** (development branch: develop-cp3): https://github.com/BodenmillerGroup/ImcPluginsCP/tree/develop-cp3\n",
    "        - This repository contains additional CellProfiler modules.\n",
    "        - In the preferences of CellProfiler point the CellProfiler Plugins folder to `ImcPluginsCP/plugins`.\n",
    "    - **ImcSegmentationPipeline** (IMCWorkshop branch): https://github.com/BodenmillerGroup/ImcSegmentationPipeline/tree/20191002_IMCWorkshop\n",
    "        - Contains this Jupyter notebook (`scripts` folder),\n",
    "        - Contains the conda environment that you will use below (`setup` folder),\n",
    "        - Contains the CellProfiler pipelines to be used (`cp3_pipelines` folder),\n",
    "        - Contains documentation about cell segmentation (`documentation` folder).\n",
    "\n",
    "#### Install the `imctools` conda environment\n",
    "- If you have already an older version of this installed, please uninstall it first.\n",
    "- To install the `imctools` environment:\n",
    "    - The conda environment file is found in `ImcSegmentationPipeline/Setup/conda_imctools.yml`.\n",
    "    - Two options for installation:\n",
    "        - a) In the Anaconda GUI: in the left tab, click on `Environments`, then on `Import` and choose `setup/conda_imctools.yml`.\n",
    "        - b) Open a conda console and type: `conda env create -f PATHTO/conda_imctools.yml`.\n",
    "    - Two options to start a Jupyter notebook:\n",
    "        - a) In the GUI:\n",
    "            - in the left tab, click on `home` -> In \"Applications on\", select `imctools`,\n",
    "            - Launch a jupyter notebook,\n",
    "            - Open the file `ImcSegmentationPipeline/scripts/imc_preprocessing.ipynb`.\n",
    "        - b) In the conda console, type `conda activate imctools`, then `jupyter notebook`.\n",
    "- **Execute this script cell by cell using** `shift-enter`.\n",
    "\n",
    "\n",
    "#### Spillover compensation\n",
    "*(This topic will not be dicussed in this Workshop)*\n",
    "- Spillover compensation is based on this publication: https://www.cell.com/cell-systems/abstract/S2405-4712(18)30063-2).\n",
    "- The experimental protocol can be found here: https://docs.google.com/document/d/195eViUqHoYRKrkoy_NkIdJPmyx1-OuDaSjiWQBy4weA.\n",
    "- Requirements:\n",
    "    - A spillover matrix specific to the isotope lots used for antibody conjugation\n",
    "        -> Will result in a spillover matrix in `.csv` format,\n",
    "    - R > 3.5 (https://cran.r-project.org/bin/windows/base/),\n",
    "    - Rstudio: https://www.rstudio.com/products/rstudio/download/,\n",
    "    - CATALYST >= 1.4.2: https://bioconductor.org/packages/release/bioc/html/CATALYST.html,\n",
    "    - 'tiff' R library: `install.packages('tiff')`.\n",
    "    \n",
    "    \n",
    "#### Data requirements:\n",
    "- This scripts assume that *each* `.mcd`  acquisition - and *optionally* all `.txt` files corresponding to this \".mcd acquisition\" - are saved in one separate `.zip` folder.\n",
    "    - This data format is recommended as it preserves and contains all original metadata and enforces a consistent naming scheme.\n",
    "    - See the provided example files for an example.\n",
    "- Note that the `description` image name can be found in the `_Acquisition_meta.csv` file generated together with the ome tiffs as well as in the `cpout` folder later in the script.\n",
    "- After analysis the `Image.csv` metadata file generated in CellProfiler will also contain the `Description` as well as other important metadata for each image, such as acquisition frequency, time, location etc.\n",
    "- For any feedback or issue, raise an issue on this Github page: https://github.com/BodenmillerGroup/ImcSegmentationPipeline/issues."
   ]
  },
  {
   "cell_type": "markdown",
   "metadata": {},
   "source": [
    "### How to adapt this pipeline:\n",
    "\n",
    "- Recommendation: For each analysis make a copy of the ImcSegmentationPipeline repository (=folder containing the scripts, cellprofiler pipelines etc) and save it under its own name. If you are more experienced it would be also appropriate to make a seperate git branch for each analysis.\n",
    "\n",
    "- The configuration section (below) needs to be adapted, such that all the folder names fit (read the comments):\n",
    "    - Most importantly the `panel.csv` needs to be correspond to your acquisitions! It must be a comma seperated `.csv` file containing the following data:\n",
    "    - a `Metal tag` column (*csv_pannel_metal variable*),\n",
    "    - a `full` column (*csv_pannel_full variable*) containing a 1 for each metal that should be included in the analysis,\n",
    "    - an `ilastik` column (*csv_pannel_ilastik*) which specifies which metals should be used as a basis for ilastik pixel classification,\n",
    "    - *Please refer to the example panel.csv file*.\n",
    "\n",
    "- The ilastik pixel classification needs to be re-trained every time a different antibody panel is used and every time the tissue type changes.\n",
    "\n",
    "- The channel numbers need to be adapted to the number of channels selected for the full stack in the CellProfiler **measurement** module."
   ]
  },
  {
   "cell_type": "markdown",
   "metadata": {},
   "source": [
    "### Configuration (needs to be adapted)\n",
    "Please **read the comments** for instructions on how to **adapt this pipeline** for your needs/data.\n",
    "\n"
   ]
  },
  {
   "cell_type": "code",
   "execution_count": 3,
   "metadata": {},
   "outputs": [],
   "source": [
    "# 1) input folders\n",
    "# the folders with the ziped acquisition files for the analysis\n",
    "# -> If you want to analyse  your own data, put the zipped inuput files (see above `Data requirements`)\n",
    "#    into a directory and add it to the folder\n",
    "# Example: if you put it into a folder 'data' which is a subdirectory of the ImcSegmentationPipeline folder change this to\n",
    "#  folders = ['../data']\n",
    "# Example2: if you put your data into a folder C://Users/dummy/mydata change this to\n",
    "# folders = ['C://Users/dummy/mydata']\n",
    "\n",
    "folders = ['../../data/zipfiles']\n",
    "\n",
    "# 2) file_regexp:\n",
    "# part that all considered acquisition files need to have in common\n",
    "# -> can be adapted to only process a subset of the acquisitions\n",
    "# Example: if you want to only analyse zips which contain '_yourname_', change this to\n",
    "#  file_regexp = '.*_yourname_.*.zip'   \n",
    "file_regexp = '.*.zip'\n",
    "\n",
    "# 3) folder_base\n",
    "# output folder\n",
    "# where the output files will be saved\n",
    "folder_base = '../../data'\n",
    "\n",
    "# 4) panel\n",
    "# This CSV file is specific to the pannel used for the Acquisitions\n",
    "# It is a comma seperated file that contains metadata about the antibodies and isotopes measured\n",
    "# This absolutely **needs** to be adapted if you work with your own files\n",
    "# Please look at the example!\n",
    "csv_pannel = '../config/example_panel.csv'\n",
    "\n",
    "# Three columns are obligatory\n",
    "csv_pannel_metal = 'Metal Tag' # Contains the isotope channel measured int he form (Metal)(Mass), e.g. Ir191, Yb171 etc.\n",
    "# ilastik columm: Bool, either 0 or 1: this selects channels to be used for cellular segmentation\n",
    "# It is recommended to choose all channels/isotope that gave a signal that could help for cell identification,\n",
    "# e.g. nuclear, cytoplasmic or membranous signal\n",
    "# The more channels selected, the slower the pixel classification\n",
    "csv_pannel_ilastik = 'ilastik' \n",
    "# full column: Contains the channels that should be quantified/measured in cellprofiler\n",
    "csv_pannel_full = 'full'\n"
   ]
  },
  {
   "cell_type": "markdown",
   "metadata": {},
   "source": [
    "### Other Input\n",
    "Only change if really necessary and you know what your doing"
   ]
  },
  {
   "cell_type": "code",
   "execution_count": 4,
   "metadata": {},
   "outputs": [],
   "source": [
    "# parameters for resizing the images for ilastik\n",
    "folder_analysis = os.path.join(folder_base, 'tiffs')\n",
    "folder_ilastik = os.path.join(folder_base, 'ilastik')\n",
    "folder_ome = os.path.join(folder_base, 'ometiff')\n",
    "folder_cp = os.path.join(folder_base, 'cpout')\n",
    "folder_histocat = os.path.join(folder_base, 'histocat')\n",
    "folder_uncertainty = os.path.join(folder_base, 'uncertainty')\n",
    "\n",
    "suffix_full = '_full'\n",
    "suffix_ilastik = '_ilastik'\n",
    "suffix_ilastik_scale = '_s2'\n",
    "suffix_mask = '_mask.tiff'\n",
    "suffix_probablities = '_Probabilities'\n",
    "\n",
    "failed_images = list()\n",
    "\n",
    "# Make a list of all the analysis stacks with format:\n",
    "# (CSV_NAME, SUFFIX, ADDSUM)\n",
    "# CSV_NAME: name of the column in the CSV to be used\n",
    "# SUFFIX: suffix of the tiff\n",
    "# ADDSUM: BOOL, should the sum of all channels be added as the first channel?\n",
    "list_analysis_stacks =[\n",
    "    (csv_pannel_ilastik, suffix_ilastik, 1),\n",
    "    (csv_pannel_full, suffix_full, 0)\n",
    "]"
   ]
  },
  {
   "cell_type": "markdown",
   "metadata": {},
   "source": [
    "#### Generate all the folders if necessary"
   ]
  },
  {
   "cell_type": "code",
   "execution_count": 5,
   "metadata": {},
   "outputs": [],
   "source": [
    "for fol in [folder_base, folder_analysis, folder_ilastik,\n",
    "            folder_ome, folder_cp, folder_histocat, folder_uncertainty]:\n",
    "    if not os.path.exists(fol):\n",
    "        os.makedirs(fol)"
   ]
  },
  {
   "cell_type": "markdown",
   "metadata": {},
   "source": [
    "### Convert zipped IMC acquisitions to input format\n",
    "\n",
    "This script works with zipped IMC acquisitions:\n",
    "Each acquisition session = (1 mcd file) should be zipped in a folder containing:\n",
    "- The `.mcd` file\n",
    "- All associated `.txt` file generated during the acquisition of this `.mcd` file -> Don't change any of the filenames!!"
   ]
  },
  {
   "cell_type": "markdown",
   "metadata": {},
   "source": [
    "#### Convert mcd containing folders into imc zip folders"
   ]
  },
  {
   "cell_type": "code",
   "execution_count": 6,
   "metadata": {},
   "outputs": [
    {
     "name": "stdout",
     "output_type": "stream",
     "text": [
      "../../data/zipfiles\\example_data.zip\n",
      "Wall time: 30.3 s\n"
     ]
    }
   ],
   "source": [
    "%%time\n",
    "failed_images = list()\n",
    "re_fn = re.compile(file_regexp)\n",
    "\n",
    "for fol in folders:\n",
    "    for fn in os.listdir(fol):\n",
    "        if re_fn.match(fn):\n",
    "            fn_full = os.path.join(fol, fn)\n",
    "            print(fn_full)\n",
    "            try:\n",
    "                convertfolder2imcfolder.convert_folder2imcfolder(fn_full, out_folder=folder_ome,\n",
    "                                                                   dozip=False)\n",
    "            except:\n",
    "                logging.exception('Error in {}'.format(fn_full))"
   ]
  },
  {
   "cell_type": "markdown",
   "metadata": {},
   "source": [
    "#### Generate a csv with all the acquisition metadata\n",
    "The csv file can be found in the `data/cpout` folder"
   ]
  },
  {
   "cell_type": "code",
   "execution_count": 7,
   "metadata": {},
   "outputs": [],
   "source": [
    "exportacquisitioncsv.export_acquisition_csv(folder_ome, fol_out=folder_cp)"
   ]
  },
  {
   "cell_type": "markdown",
   "metadata": {},
   "source": [
    "#### Convert ome.tiffs to a histoCAT compatible format"
   ]
  },
  {
   "cell_type": "code",
   "execution_count": 8,
   "metadata": {},
   "outputs": [
    {
     "name": "stdout",
     "output_type": "stream",
     "text": [
      "Wall time: 9.24 s\n"
     ]
    }
   ],
   "source": [
    "%%time\n",
    "if not(os.path.exists(folder_histocat)):\n",
    "    os.makedirs(folder_histocat)\n",
    "for fol in os.listdir(folder_ome):\n",
    "    ome2micat.omefolder2micatfolder(os.path.join(folder_ome,fol), folder_histocat, dtype='uint16')\n"
   ]
  },
  {
   "cell_type": "markdown",
   "metadata": {},
   "source": [
    "#### Generate the analysis stacks"
   ]
  },
  {
   "cell_type": "code",
   "execution_count": 9,
   "metadata": {},
   "outputs": [
    {
     "name": "stdout",
     "output_type": "stream",
     "text": [
      "20190919_FluidigmBrCa_SE_s0_p8_r1_a1_ac.ome.tiff\n",
      "20190919_FluidigmBrCa_SE_s0_p8_r2_a2_ac.ome.tiff\n",
      "20190919_FluidigmBrCa_SE_s0_p8_r3_a3_ac.ome.tiff\n",
      "20190919_FluidigmBrCa_SE_s0_p8_r4_a4_ac.ome.tiff\n",
      "20190919_FluidigmBrCa_SE_s0_p8_r5_a5_ac.ome.tiff\n",
      "20190919_FluidigmBrCa_SE_s0_p8_r6_a6_ac.ome.tiff\n",
      "20190919_FluidigmBrCa_SE_s0_p8_r7_a7_ac.ome.tiff\n",
      "20190919_FluidigmBrCa_SE_s0_p8_r8_a8_ac.ome.tiff\n",
      "Wall time: 10.5 s\n"
     ]
    }
   ],
   "source": [
    "%%time\n",
    "for fol in os.listdir(folder_ome):\n",
    "    sub_fol = os.path.join(folder_ome, fol)\n",
    "    for img in os.listdir(sub_fol):\n",
    "        if not img.endswith('.ome.tiff'):\n",
    "            continue\n",
    "        basename = img.rstrip('.ome.tiff')\n",
    "        print(img)\n",
    "        for (col, suffix, addsum) in list_analysis_stacks:\n",
    "            try:\n",
    "                ometiff2analysis.ometiff_2_analysis(os.path.join(sub_fol, img), folder_analysis,\n",
    "                                                basename + suffix, pannelcsv=csv_pannel, metalcolumn=csv_pannel_metal,\n",
    "                                                usedcolumn=col, addsum=addsum, bigtiff=False,\n",
    "                                               pixeltype='uint16')\n",
    "            except:\n",
    "                logging.exception('Error in {}'.format(img))"
   ]
  },
  {
   "cell_type": "markdown",
   "metadata": {},
   "source": [
    "At this stage, an error here of the form\n",
    "\n",
    "```\n",
    "line 91, in <listcomp> return [order_dict[m] for m in metallist] KeyError: 'Ru100'\n",
    "```\n",
    "\n",
    "indicates that the `panel.csv` contains a metal channel that was not actually measured in all or one of the acquisitions!\n",
    "Please check the images as well as the `panel.csv` to make sure that only channels are in the `panel.csv` that were actually measured."
   ]
  },
  {
   "cell_type": "markdown",
   "metadata": {},
   "source": [
    "## Next steps\n",
    "\n",
    "This concludes the conversion of the IMC rawdata into usable TIFFs.\n",
    "\n",
    "The pipelines can be found in the `cp3_pipeline` folder in this repository. They were tested in `cellprofiler 3.1.8`.\n",
    "\n",
    "The next steps are:\n",
    "\n",
    "### A) Cellprofiler: 1_prepare_ilastik\n",
    "*Make sure that the correct plugins folder \"/ImcPluginsCP/plugins\" is selected in the CellProfiler preferences, otherwise loading these pipelines will fail*\n",
    "\n",
    "In this module we prepare the data for Ilastik pixel classification, by first removing strong outlier pixels, then scaling the images 2x and then taking random 500x500 crops to train the pixel classifier.\n",
    "\n",
    "The following parts of this module need to be adapted:\n",
    "\n",
    "1) File list: choose all files in the `tiff` subfolder\n",
    "\n",
    "2) Default Output Folder: Choose the `ilastik` subfolder\n",
    "\n",
    "No further parts need to be adapted.\n",
    "In our 16 core computer this step takes ca 5 min for the example dataset.\n",
    "\n",
    "\n",
    "### B) Ilastik: Train a pixel classifier\n",
    "\n",
    "This uses the random crops generated in the last step.\n",
    "\n",
    "1) Make a new `pixel classification project`. Save the project file in the `ilastik` subfolder.\n",
    "\n",
    "2) Add the `.h5` random crops: Raw data -> Add Seperate Images -> Select all `.h5` images in the `ilastik` subfolder.\n",
    "\n",
    "3) Proceed to `Feature Selection`\n",
    "\n",
    "4) Select suitable features (or just everythin > 1 pixels)\n",
    "\n",
    "5) Proceed to the classification:\n",
    "    - Add 3 labels:\n",
    "        - 1: Nuclei\n",
    "        - 2: Cytoplasm\n",
    "        - 3: Background\n",
    "           -> For large datasets adding the labels can take a while\n",
    "    - Start labeling: \n",
    "        - The box next to `Input Data` can change the channels. What each channel corresponds to can be seen when looking in any of the `..._ilastik.csv` files in the `tiff` folder. The 0 channel correspond to the sum of all channels, very usefull to label the background.\n",
    "        - Use window leveling change the contrast. Right click on the `Input Data` -> `Adjust Thresholds` is also very usefull\n",
    "        - Label opiniated: If you see in the nucleus channel that two nuclei are stuck together but have a faint dip in intensity in between, label this as 2: Cytoplasm. Encyrcle nuclei with Cytoplasm\n",
    "        - Diseable `Live Update` for performance\n",
    "        - Frequently check the `Uncertainties`: This indicates which pixels the classifier profits most if they are labeled. A well trained classifier has low uncertainty within class regions (e.g. Nuclei) and high uncertainty at class borders (e.g. between nuclei and cytoplasm).\n",
    "        \n",
    "6) If you think the classifier is well trained, export the probabilities:\n",
    "        - Export Settings -> Source: Probabilities -> Choose Export Image Settings:\n",
    "            - Convert to datatype: Unsigned Integer 16 bit\n",
    "            - Renormalize: check\n",
    "            - Format: tiff\n",
    "            - File: change to ../data/tiffs/{nickname}_{result_type}.tiff\n",
    "        - Export all: This generates `_Probabilities.tiff` in the `ilastik` folder. They can be checked using any image viewer\n",
    "            - To generate uncertainty maps (good to identify regions that need training),\n",
    "            run the `Convert probabilities to uncertainties` section `#For training` below. This will put uncertainties in the uncertainty folder.\n",
    "            -> Well trained classifiers have low uncertainty (transparent) everywhere but at class borders which should be white.\n",
    "            \n",
    "        - Optional: Train again regions with high uncertainty, then proceed.\n",
    "        \n",
    "7) If you think that you are finished with classification, you need to apply the classifier to your whole dataset usingBatch processing:\n",
    "        - Make sure the Export Settings are still the same as in the step 6), then go to the 'Batch Processing' step in ilastik.\n",
    "        - Select raw data files -> select all `_s2.h5` files in the `tiff` folder. (sort by filetype, select all `H5` files).\n",
    "        => This step takes a while and is computationally intensive!\n",
    "        => Ca 15 min on 10 cores on the example data\n",
    "            \n",
    "        - Optional: use the below probability to uncertainty `#For the data` to convert all proabilities to uncertainties, check if there are any regions of high uncertainty and optionally crop the corresponding image part in imagej and add it to the training data. Do some more training on this image and re-export the probabilities.\n",
    "        - Note: store the `ilastik` folder with all the random crops and the trained classifier for reproducibility reasons.\n",
    "        \n",
    "### C) Cellprofiler: 2_segment_ilastik\n",
    "\n",
    "This step will segment the probabilities into masks.\n",
    "\n",
    "Things to adapt:\n",
    "\n",
    "1) File list: choose again all files from the `tiffs` folder\n",
    "\n",
    "2) It is important to check the `IdentifyPrimaryObjects` step, if the segmentation settings are suitable!\n",
    "    This might vary strongly between cell/tissue/training and needs attention! Use the test mode and try various settings.\n",
    "    Also note the `smooth` step immediately before: This can be also removed, I just happen get good results with this additional step.\n",
    "    \n",
    "3) Also the `MeasureObjectSizeShape` combined with `FilterObjects` is just some personal preference of mine, feel free to change\n",
    "\n",
    "4) `IdentifySecondaryObjects`: Here th mask is expanded to the full cell.\n",
    "\n",
    "5) `Rescale objects`: note that our segmentation was done on 2x upscaled images, this scales the masks down again. Note that potentially also the nuclei mask could be scaled down and further exported and used.\n",
    "\n",
    "6) The `Default Output Path` does not need to be adapted for this module.\n",
    "\n",
    "\n",
    "Note1: Seperating mask generation from mask measurement adds modularity and is thus highly recommended, as generating masks is one of the most resource intensive steps.\n",
    "\n",
    "\n",
    "### D) Cellprofiler: 3_measure_mask\n",
    "\n",
    "This step is not necessary for `HistoCat` only analysis. If `HistoCat` should be used, use the `Generate the histocat folder with masks` section below.\n",
    "\n",
    "#### 3_measure_mask_basic\n",
    "\n",
    "This module measures without considering spillover correction.\n",
    "\n",
    "1) File list: choose again all files from the `tiffs` folder\n",
    "\n",
    "2) View Output settings: set the `Default output folder` to the `cpout` folder\n",
    "\n",
    "3) Metadata: update - this will automatically merge the mcd metadata .csv generated earlier in the script with your images.\n",
    "\n",
    "4) Names and types: click update\n",
    "\n",
    "5) `Measure Object Intensity Multichannel`: Adapt the channel numbers. Check the `_full.csv` files in the `tiffs` folder to see how many channels the stack have and adapt accordingly.\n",
    "\n",
    "6) `Measure Image Intensity Multichannel`: Adapt the channel numbers. Check the `_full.csv` files in the `tiffs` folder to see how many channels the stack have and adapt accordingly.\n",
    "\n",
    "Notes:\n",
    "- In this pipeline all the intesities are scaled by `1/(2**16)`\n",
    "- The mapping between channel number c1, c2, c3 corresponds to the position in the `_full.csv`s found in the `tiffs` folder.\n",
    "- The original acquisition description, acquisition frequencies etc can be found in the `Image.csv` output as `Metdata_...` columns.\n",
    "- This outputs a lot of measurements that are acutally of little interest - usually we only look at `meanintensity` per channel and cell.\n",
    "    To reduce the outputs, select in `Export To Spreadsheet` -> `Select Measurements to Export` -> Only the measurements you want (usually all Image measurements and only the `MeanIntensity` fullstack measurements).\n",
    "- The `FullStack` can also be not measured, as it is almost identical to the `FullStackFiltered`.\n",
    "\n",
    "#### 3_measure_mask_compensation\n",
    "This will do measurements and also single cell data compensation\n",
    "0) Run the script: https://github.com/BodenmillerGroup/cyTOFcompensation/blob/master/scripts/imc_adaptsm.Rmd in R:\n",
    "    - Adapt the path to the spillover matrix `fn_sm='.../path/to/sm/spillmat.csv'`. In this example data it can be found at:\n",
    "        `fn_sm = 'PATHTO/ImcSegmentationPipeline/config/20170707_example_spillmat.csv'`\n",
    "    - Choose any `_full.csv` file, generated during the `Generate analysis stacks` step in the output folder, for the `fn_imc_metals = '/path/to/anyfile_full.csv' `.\n",
    "        In this example this could be: `fn_imc_metals = 'PATHTO/tiffs/20170905_Fluidigmworkshopfinal_SEAJa_s0_p0_r0_a0_ac_full.csv'`\n",
    "    - Run the script and this will produce an `PATHTO/tiffs/imc_full_sm.tiff` file\n",
    "\n",
    "1) File list: choose again all files from the `tiffs` folder\n",
    "\n",
    "2) View Output settings: set the `Default output folder` to the `cpout` folder\n",
    "\n",
    "3) Metadata: update - this will automatically merge the mcd metadata .csv generated earlier in the script with your images.\n",
    "\n",
    "4) Names and types:  Make sure that in `NamesAndTypes` the `PATHTO/tiffs/imc_full_sm.tiff` file is selected, click update\n",
    "\n",
    "5) `Measure Object Intensity Multichannel`: Adapt the channel numbers. Check the `_full.csv` files in the `tiffs` folder to see how many channels the stack have and adapt accordingly.\n",
    "\n",
    "6) `Measure Image Intensity Multichannel`: Adapt the channel numbers. Check the `_full.csv` files in the `tiffs` folder to see how many channels the stack have and adapt accordingly.\n",
    "\n",
    "7) `CorrectSpilloverApply`: This will generate a corrected image stack, this can be used e.g. to do measurements of intensity distribution. For measurements of intensity it is however better to correct the measurement afterward using the `CorrectSpilloverMeasurement`.\n",
    "\n",
    "8) `CorrectSpilloverMeasurement`: Here the intensity measurement can be spillover corrected. Note that this makes only sense for linear combinations of intensity measurements such as `MeanIntensity` or `TotalIntensity`. For these it is more accurate to do this after measurement than doing it on the pixel level beforehand. Note that for things with non linear transformations as `MedianIntensity`, this will not result in valid results and these measurements should be done on beforehand corrected images from `CorrectSpilloverApply`."
   ]
  },
  {
   "cell_type": "markdown",
   "metadata": {},
   "source": [
    "## Convert probabilities to uncertainties"
   ]
  },
  {
   "cell_type": "code",
   "execution_count": 11,
   "metadata": {},
   "outputs": [
    {
     "name": "stdout",
     "output_type": "stream",
     "text": [
      "20190919_FluidigmBrCa_SE_s0_p8_r1_a1_ac_ilastik_s2_Probabilities.tiff\n",
      "20190919_FluidigmBrCa_SE_s0_p8_r2_a2_ac_ilastik_s2_Probabilities.tiff\n",
      "20190919_FluidigmBrCa_SE_s0_p8_r3_a3_ac_ilastik_s2_Probabilities.tiff\n",
      "20190919_FluidigmBrCa_SE_s0_p8_r4_a4_ac_ilastik_s2_Probabilities.tiff\n",
      "20190919_FluidigmBrCa_SE_s0_p8_r5_a5_ac_ilastik_s2_Probabilities.tiff\n",
      "20190919_FluidigmBrCa_SE_s0_p8_r6_a6_ac_ilastik_s2_Probabilities.tiff\n",
      "20190919_FluidigmBrCa_SE_s0_p8_r7_a7_ac_ilastik_s2_Probabilities.tiff\n",
      "20190919_FluidigmBrCa_SE_s0_p8_r8_a8_ac_ilastik_s2_Probabilities.tiff\n"
     ]
    }
   ],
   "source": [
    "for fn in os.listdir(folder_analysis):\n",
    "    if fn.endswith(suffix_probablities+'.tiff'):\n",
    "        print(fn)\n",
    "        probablity2uncertainty.probability2uncertainty(os.path.join(folder_analysis,fn), folder_uncertainty)"
   ]
  },
  {
   "cell_type": "markdown",
   "metadata": {},
   "source": [
    "## Generate histoCAT folders with masks"
   ]
  },
  {
   "cell_type": "code",
   "execution_count": 12,
   "metadata": {},
   "outputs": [
    {
     "name": "stdout",
     "output_type": "stream",
     "text": [
      "Wall time: 9.98 s\n"
     ]
    }
   ],
   "source": [
    "%%time\n",
    "for fol in os.listdir(folder_ome):\n",
    "    ome2micat.omefolder2micatfolder(os.path.join(folder_ome,fol), folder_histocat, \n",
    "                                         fol_masks=folder_analysis, mask_suffix=suffix_mask, dtype='uint16')\n"
   ]
  }
 ],
 "metadata": {
  "kernelspec": {
   "display_name": "Python 3",
   "language": "python",
   "name": "python3"
  },
  "language_info": {
   "codemirror_mode": {
    "name": "ipython",
    "version": 3
   },
   "file_extension": ".py",
   "mimetype": "text/x-python",
   "name": "python",
   "nbconvert_exporter": "python",
   "pygments_lexer": "ipython3",
   "version": "3.6.6"
  }
 },
 "nbformat": 4,
 "nbformat_minor": 2
}
