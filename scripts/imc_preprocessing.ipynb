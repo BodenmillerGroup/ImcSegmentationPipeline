{
 "cells": [
  {
   "cell_type": "code",
   "execution_count": 1,
   "outputs": [],
   "source": [
    "from imctools.converters import ome2analysis\n",
    "from imctools.converters import ome2histocat\n",
    "from imctools.converters import mcdfolder2imcfolder\n",
    "from imctools.converters import exportacquisitioncsv"
   ],
   "metadata": {
    "collapsed": false,
    "pycharm": {
     "name": "#%%\n"
    }
   }
  },
  {
   "cell_type": "code",
   "execution_count": 2,
   "outputs": [
    {
     "name": "stdout",
     "output_type": "stream",
     "text": [
      "['/home/vitoz/Git/ImcSegmentationPipeline/scripts', '/home/vitoz/Git/ImcSegmentationPipeline', '/home/vitoz/anaconda3/envs/ImcSegmentationPipeline/lib/python38.zip', '/home/vitoz/anaconda3/envs/ImcSegmentationPipeline/lib/python3.8', '/home/vitoz/anaconda3/envs/ImcSegmentationPipeline/lib/python3.8/lib-dynload', '', '/home/vitoz/.local/lib/python3.8/site-packages', '/home/vitoz/anaconda3/envs/ImcSegmentationPipeline/lib/python3.8/site-packages', '/home/vitoz/anaconda3/envs/ImcSegmentationPipeline/lib/python3.8/site-packages/IPython/extensions', '/home/vitoz/.ipython']\n",
      "/home/vitoz/anaconda3/envs/ImcSegmentationPipeline/bin/python\n"
     ]
    }
   ],
   "source": [
    "import sys\n",
    "print(sys.path)\n",
    "print(sys.executable)"
   ],
   "metadata": {
    "collapsed": false,
    "pycharm": {
     "name": "#%%\n"
    }
   }
  },
  {
   "cell_type": "code",
   "execution_count": 3,
   "outputs": [],
   "source": [
    "import pathlib\n",
    "import re"
   ],
   "metadata": {
    "collapsed": false,
    "pycharm": {
     "name": "#%%\n"
    }
   }
  },
  {
   "cell_type": "markdown",
   "source": [
    "\n",
    "# The IMC preprocessing pipeline for multiplexed image analysis\n"
   ],
   "metadata": {
    "collapsed": false
   }
  },
  {
   "cell_type": "markdown",
   "source": [
    "This is a pipeline to segment IMC data using Ilastik pixel classification as well as CellProfiler.\n",
    "\n",
    "To run install the conda `imctools` envrionment found in `Setup/conda_imctools.yml`.\n",
    "-> Install conda\n",
    "-> On a conda console type: `conda env create -f conda_imctools.yml`\n",
    "\n",
    "Start a Jupyter instance in this environment to run this Jupyter Notebook.\n",
    "\n",
    "This notebook will automatically download example data.\n",
    "\n",
    "This dataset are zipped input_data_folders of the `.mcd` and all `.txt` files corresponding to one acquisitions session.\n",
    "This is my recomended data format as it preserves and contains all original metadata and enforces a consistent naming scheme.\n",
    "\n",
    "Note that the `description` image name can be found in the `..._Acquisition_meta.csv` generated together with the ome tiffs\n",
    "as well as in the `cpout` folder later in the script.\n",
    "After analysis the `Image.csv` metadata file generated in Cellprofiller will also contain the `Description` as well as other important metadata for each\n",
    "image, such as acquisition frequency, time, location etc.\n",
    "\n",
    "For working with `.txt` files, please look at the older examples.\n",
    "\n",
    "For any feedback please contact: Vito, vito.zanotelli@uzh.ch"
   ],
   "metadata": {
    "collapsed": false
   }
  },
  {
   "cell_type": "code",
   "execution_count": 4,
   "outputs": [],
   "source": [
    "# the input_data_folders with the ziped acquisition files for the analysis\n",
    "folders = ['../example_data']\n",
    "\n",
    "# part that all considered files need to have in common\n",
    "file_regexp = '.*.zip'\n",
    "\n",
    "# output for OME tiffs\n",
    "folder_base = '/mnt/f2160748-a937-44bd-aca8-3adb8a839612/Data/Analysis/cp4_segmentation_example'\n",
    "\n",
    "\n",
    "# pannel\n",
    "csv_pannel = '../config/example_panel.csv'\n",
    "csv_pannel_metal = 'Metal Tag'\n",
    "csv_pannel_ilastik = 'ilastik'\n",
    "csv_pannel_full = 'full'"
   ],
   "metadata": {
    "collapsed": false,
    "pycharm": {
     "name": "#%%\n"
    }
   }
  },
  {
   "cell_type": "code",
   "execution_count": 5,
   "outputs": [],
   "source": [
    "folder_base = pathlib.Path(folder_base)\n",
    "folders = [pathlib.Path(f) for f in folders]\n",
    "# parameters for resizing the images for ilastik\n",
    "\n",
    "folder_analysis = folder_base / 'tiffs'\n",
    "folder_ilastik = folder_base / 'ilastik'\n",
    "folder_ome = folder_base / 'ometiff'\n",
    "folder_cp = folder_base / 'cpout'\n",
    "folder_histocat = folder_base / 'histocat'\n",
    "folder_uncertainty = folder_base / 'uncertainty'\n",
    "\n",
    "suffix_full = '_full'\n",
    "suffix_ilastik = '_ilastik'\n",
    "suffix_ilastik_scale = '_s2'\n",
    "suffix_mask = '_mask.tiff'\n",
    "suffix_probablities = '_Probabilities'\n",
    "\n",
    "\n",
    "failed_images = list()"
   ],
   "metadata": {
    "collapsed": false,
    "pycharm": {
     "name": "#%%\n"
    }
   }
  },
  {
   "cell_type": "markdown",
   "source": [
    "Generate all the input_data_folders if necessary"
   ],
   "metadata": {
    "collapsed": false
   }
  },
  {
   "cell_type": "code",
   "execution_count": 7,
   "outputs": [],
   "source": [
    "for fol in [folder_base, folder_analysis, folder_ilastik,\n",
    "            folder_ome, folder_cp, folder_histocat, folder_uncertainty]:\n",
    "    if not fol.exists():\n",
    "        fol.mkdir(parents=True)"
   ],
   "metadata": {
    "collapsed": false,
    "pycharm": {
     "name": "#%%\n"
    }
   }
  },
  {
   "cell_type": "code",
   "execution_count": 8,
   "outputs": [],
   "source": [
    "## This will download the example data - remove if you work with your own data!\n",
    "import urllib.request\n",
    "fol_example = folders[0]\n",
    "fol_example.mkdir(exist_ok=True)\n",
    "urls = [('20170905_Fluidigmworkshopfinal_SEAJa.zip',\n",
    "         'https://www.dropbox.com/s/awyq9p7n7dexgyt/20170905_Fluidigmworkshopfinal_SEAJa.zip?dl=1') ,\n",
    "        ('20170906_FluidigmONfinal_SE.zip',\n",
    "         'https://www.dropbox.com/s/0pdt1ke4b07v7zd/20170906_FluidigmONfinal_SE.zip?dl=1')]\n",
    "\n",
    "for fn, url in urls:\n",
    "    fn = fol_example / fn\n",
    "    if not fn.exists():\n",
    "        urllib.request.urlretrieve(url, fn)"
   ],
   "metadata": {
    "collapsed": false,
    "pycharm": {
     "name": "#%%\n"
    }
   }
  },
  {
   "cell_type": "markdown",
   "source": [
    "Convert mcd containing input_data_folders into imc zip input_data_folders"
   ],
   "metadata": {
    "collapsed": false
   }
  },
  {
   "cell_type": "code",
   "execution_count": 10,
   "outputs": [
    {
     "name": "stdout",
     "output_type": "stream",
     "text": [
      "CPU times: user 33.9 s, sys: 8.52 s, total: 42.4 s\n",
      "Wall time: 1min 55s\n"
     ]
    }
   ],
   "source": [
    "%%time\n",
    "failed_images = list()\n",
    "re_fn = re.compile(file_regexp)\n",
    "\n",
    "for fol in folders:\n",
    "    for fn in fol.glob('*'):\n",
    "        if re_fn.match(fn.name):\n",
    "            mcdfolder2imcfolder.mcdfolder_to_imcfolder(fn, output_folder=folder_ome,\n",
    "                                                       create_zip=False)"
   ],
   "metadata": {
    "collapsed": false,
    "pycharm": {
     "name": "#%%\n"
    }
   }
  },
  {
   "cell_type": "markdown",
   "source": [
    "Generate a csv with all the acquisition metadata"
   ],
   "metadata": {
    "collapsed": false
   }
  },
  {
   "cell_type": "code",
   "execution_count": 11,
   "outputs": [],
   "source": [
    "exportacquisitioncsv.export_acquisition_csv(folder_ome, output_folder=folder_cp)"
   ],
   "metadata": {
    "collapsed": false,
    "pycharm": {
     "name": "#%%\n"
    }
   }
  },
  {
   "cell_type": "markdown",
   "source": [
    "Convert ome.tiffs to a HistoCAT compatible format, e.g. to do some visualization and channel checking."
   ],
   "metadata": {
    "collapsed": false
   }
  },
  {
   "cell_type": "code",
   "execution_count": 13,
   "outputs": [
    {
     "name": "stdout",
     "output_type": "stream",
     "text": [
      "CPU times: user 1.43 s, sys: 1.43 s, total: 2.85 s\n",
      "Wall time: 22 s\n"
     ]
    }
   ],
   "source": [
    "%%time\n",
    "for fol in folder_ome.iterdir():\n",
    "    if fol.is_dir():\n",
    "        ome2histocat.omefolder_to_histocatfolder(fol, folder_histocat)"
   ],
   "metadata": {
    "collapsed": false,
    "pycharm": {
     "name": "#%%\n"
    }
   }
  },
  {
   "cell_type": "markdown",
   "source": [
    "Generate the analysis stacks"
   ],
   "metadata": {
    "collapsed": false
   }
  },
  {
   "cell_type": "code",
   "execution_count": 14,
   "outputs": [],
   "source": [
    "list_analysis_stacks =[\n",
    "    (csv_pannel_ilastik, suffix_ilastik, 1),\n",
    "    (csv_pannel_full, suffix_full, 0)]"
   ],
   "metadata": {
    "collapsed": false,
    "pycharm": {
     "name": "#%%\n"
    }
   }
  },
  {
   "cell_type": "code",
   "execution_count": 15,
   "outputs": [
    {
     "name": "stdout",
     "output_type": "stream",
     "text": [
      "CPU times: user 1.84 s, sys: 1.65 s, total: 3.49 s\n",
      "Wall time: 10.8 s\n"
     ]
    }
   ],
   "source": [
    "%%time\n",
    "ome2analysis.omefolder_to_analysisfolder(folder_ome, folder_analysis, panel_csv_file=csv_pannel,\n",
    "                                         analysis_stacks=(list_analysis_stacks)  , metalcolumn=csv_pannel_metal)\n",
    "\n"
   ],
   "metadata": {
    "collapsed": false,
    "pycharm": {
     "name": "#%%\n"
    }
   }
  },
  {
   "cell_type": "markdown",
   "source": [
    "# Next steps\n",
    "\n",
    "This concludes the conversion of the IMC rawdata into usable TIFFs.\n",
    "\n",
    "The pipelines can be found in the `cp3_pipeline` folder in this repository. They were tested in `cellprofiler 3.1.5`.\n",
    "\n",
    "The next steps are:\n",
    "\n",
    "### A) Cellprofiler: 1_prepare_ilastik\n",
    "\n",
    "In this module we prepare the data for Ilastik pixel classification, by first removing strong outlier pixels, then scaling the images 2x and then taking random 500x500 crops to do the train the pixel classifier.\n",
    "\n",
    "The following parts of this module need to be adapted:\n",
    "\n",
    "1) File list: choose all files in the `tiff` subfolder\n",
    "\n",
    "2) Default Output Folder: Choose the `ilastik` subfolder\n",
    "\n",
    "No further parts need to be adapted.\n",
    "In our 16 core computer this step takes ca 5 min for the example dataset.\n",
    "\n",
    "\n",
    "### B) Ilatik: Train a pixel classifier\n",
    "\n",
    "This uses the random crops generated in the last step.\n",
    "\n",
    "1) Make a new `pixel classification project`. Save the project file in the `ilastik` subfolder.\n",
    "\n",
    "2) Add the `.h5` random crops: Raw data -> Add Seperate Images -> Select all `.h5` images in the `ilastik` subfolder.\n",
    "\n",
    "3) Proceed to `Feature Selection`\n",
    "\n",
    "4) Select suitable features (or just everythin > 1 pixels)\n",
    "\n",
    "5) Proceed to the classification:\n",
    "    - Add 3 labels:\n",
    "        - 1: Nuclei\n",
    "        - 2: Cytoplasma/membrane\n",
    "        - 3: Background\n",
    "        - -> For large datasets adding the labels can take a while\n",
    "    - Start labeling:\n",
    "        - The box next to `Input Data` can change the channels. What each channel corresponds to can be seen when looking in any of the `..._ilastik.csv` files in the `tiff` folder. The 0 channel correspond to the sum of all channels, very usefull to label the background.\n",
    "        - Use window leveling change the contrast. Right click on the `Input Data` -> `Adjust Thresholds` is also very usefull\n",
    "        - Label opiniated: If you see in the nucleus channel that two nuclei are stuck together but have a faint dip in intensity in between, label this as 2: Cytoplasma. Encyrcle nuclei with Cytoplasma\n",
    "        - Diseable `Live Update` for performance\n",
    "        - Frequently check the `Uncertainties`: This indicates which pixels the classifier profits most if they are labeled. A well trained classifier has low uncertainty within class regions (e.g. Nuclei) and high uncertainty at class borders (e.g. between nuclei and cytoplasma).\n",
    "\n",
    "    - If you think the classifier is well trained, export the probabilities:\n",
    "        - Export Settings -> Source: Probabilities -> Choose Export Image Settings:\n",
    "            - Convert to datatype: Unsigned Integer 16 bit\n",
    "            - Renormalize: check\n",
    "            - Format: Tiff\n",
    "            - File: leave default\n",
    "        - Export all: This generates `_Probabilities.tiff` in the `ilastik` folder. They can be checked using any image viewer\n",
    "            - To generate uncertainty maps (good to identify regions that need training),\n",
    "            run the `Convert probabilities to uncertainties` section `#For training` below. This will put uncertainties in the uncertainty folder.\n",
    "            -> Well trained classifiers have low uncertainty (transparent) everywhere but at class borders which should be white.\n",
    "\n",
    "        - Optional: Train again regions with high uncertainty, then proceed.\n",
    "\n",
    "        - Batch processing: -> Select raw data files -> select all `_s2.h5` files in the `tiff` folder. (sort by filetype, select all `H5` files).\n",
    "            -> This step takes a while and is computationally intensive!\n",
    "            -> Ca 15 min on 10 cores on the example data\n",
    "\n",
    "        - Optional: use the below probability to uncertainty `#For the data` to convert all proabilities to uncertainties, check if there are any regions of high uncertainty and optionally crop the corresponding image part in imagej and add it to the training data.\n",
    "        - Note: store the `ilastik` folder with all the random crops and the trained classifier for reproducibility reasons.\n",
    "\n",
    "### C) Cellprofiler: 2_segment_ilastik\n",
    "\n",
    "This step will segment the probabilities into masks.\n",
    "\n",
    "Things to adapt:\n",
    "\n",
    "1) File list: choose again all files from the `tiffs` folder\n",
    "\n",
    "2) It is important to check the `IdentifyPrimaryObjects` step, if the segmentation settings are suitable!\n",
    "    This might vary strongly between cell/tissue/training and needs attention! Use the test mode and try various settings.\n",
    "    Also note the `smooth` step immediately before: This can be also removed, I just happen get good results with this additional step.\n",
    "\n",
    "3) Also the `MeasureObjectSizeShape` combined with `FilterObjects` is just some personal preference of mine, feel free to change\n",
    "\n",
    "4) `IdentifySecondaryObjects`: Here th mask is expanded to the full cell.\n",
    "\n",
    "5) `Rescale objects`: note that our segmentation was done on 2x upscaled images, this scales the masks down again. Note that potentially also the nuclei mask could be scaled down and further exported and used.\n",
    "\n",
    "6) The `Default Output Path` does not need to be adapted for this module.\n",
    "\n",
    "\n",
    "Note1: Seperating mask generation from mask measurement adds modularity and is thus highly recommended, as generating masks is one of the most resource intensive steps.\n",
    "\n",
    "\n",
    "### D) Cellprofiler: 3_measure_mask\n",
    "\n",
    "This step is not necessary for `HistoCat` only analysis. If `HistoCat` should be used, use the `Generate the histocat folder with masks` section below.\n",
    "\n",
    "#### 3_measure_mask_basic\n",
    "\n",
    "This module measures without considering spillover correction.\n",
    "\n",
    "1) File list: choose again all files from the `tiffs` folder\n",
    "\n",
    "2) View Output settings: set the `Default output folder` to the `cpout` folder\n",
    "\n",
    "3) Metadata: update - this will automatically merge the mcd metadata .csv generated earlier in the script with your images.\n",
    "\n",
    "4) Names and types: click update\n",
    "\n",
    "5) `Measure Object Intensity Multichannel`: Adapt the channel numbers. Check the `_full.csv` files in the `tiffs` folder to see how many channels the stack have and adapt accordingly.\n",
    "\n",
    "6) `Measure Image Intensity Multichannel`: Adapt the channel numbers. Check the `_full.csv` files in the `tiffs` folder to see how many channels the stack have and adapt accordingly.\n",
    "\n",
    "Notes:\n",
    "- In this pipeline all the intesities are scaled by `1/(2**16)`\n",
    "- The mapping between channel number c1, c2, c3 corresponds to the position in the `_full.csv`s found in the `tiffs` folder.\n",
    "- The original acquisition description, acquisition frequencies etc can be found in the `Image.csv` output as `Metdata_...` columns.\n",
    "- This outputs a lot of measurements that are acutally of little interest - usually we only look at `meanintensity` per channel and cell.\n",
    "    To reduce the outputs, select in `Export To Spreadsheet` -> `Select Measurements to Export` -> Only the measurements you want (usually all Image measurements and only the `MeanIntensity` fullstack measurements).\n",
    "- The `FullStack` can also be not measured, as it is almost identical to the `FullStackFiltered`.\n",
    "\n",
    "#### 3_measure_mask\n",
    "This will also have a spillover corrections step - stay tuned!"
   ],
   "metadata": {
    "collapsed": false
   }
  },
  {
   "cell_type": "markdown",
   "source": [
    "## Generate the histocat folder with masks"
   ],
   "metadata": {
    "collapsed": false
   }
  },
  {
   "cell_type": "code",
   "execution_count": null,
   "outputs": [],
   "source": [
    "%%time\n",
    "for fol in os.listdir(folder_ome):\n",
    "    ome2histocat.omefolder2micatfolder(os.path.join(folder_ome,fol), folder_histocat,\n",
    "                                    fol_masks=folder_analysis, mask_suffix=suffix_mask, dtype='uint16')"
   ],
   "metadata": {
    "collapsed": false,
    "pycharm": {
     "name": "#%%\n"
    }
   }
  }
 ],
 "metadata": {
  "jupytext": {
   "text_representation": {
    "extension": ".py",
    "format_name": "percent",
    "format_version": "1.3",
    "jupytext_version": "1.3.4"
   }
  },
  "kernelspec": {
   "name": "pycharm-9a098186",
   "language": "python",
   "display_name": "PyCharm (ImcSegmentationPipeline)"
  },
  "language_info": {
   "codemirror_mode": {
    "name": "ipython",
    "version": 3
   },
   "file_extension": ".py",
   "mimetype": "text/x-python",
   "name": "python",
   "nbconvert_exporter": "python",
   "pygments_lexer": "ipython3",
   "version": "3.7.6"
  }
 },
 "nbformat": 4,
 "nbformat_minor": 4
}