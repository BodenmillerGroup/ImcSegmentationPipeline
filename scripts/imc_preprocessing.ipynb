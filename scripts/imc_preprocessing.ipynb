{
 "cells": [
  {
   "cell_type": "code",
   "execution_count": 1,
   "id": "6df251db",
   "metadata": {},
   "outputs": [],
   "source": [
    "# import sys\n",
    "\n",
    "# from pathlib import Path\n",
    "\n",
    "# !{sys.executable} -m pip install -e {Path.cwd().parent}"
   ]
  },
  {
   "cell_type": "code",
   "execution_count": 1,
   "id": "70edc343",
   "metadata": {
    "tags": []
   },
   "outputs": [],
   "source": [
    "import shutil\n",
    "from pathlib import Path\n",
    "from tempfile import TemporaryDirectory\n",
    "from typing import List\n",
    "\n",
    "import pandas as pd\n",
    "\n",
    "import imcsegpipe\n",
    "from imcsegpipe.utils import sort_channels_by_mass"
   ]
  },
  {
   "cell_type": "markdown",
   "id": "2d7e5475",
   "metadata": {},
   "source": [
    "\n",
    "# Preprocessing of IMC data for image segmentation\n"
   ]
  },
  {
   "cell_type": "markdown",
   "id": "52e09020",
   "metadata": {},
   "source": [
    "This script presents the first step of the IMC segmentation pipeline.\n",
    " \n",
    "To get started, please refer to the [Get started guide](https://bodenmillergroup.github.io/ImcSegmentationPipeline/) and to download example data you can run the script `scripts/download_examples.ipynb`.\n",
    " \n",
    "**Requirements for the input data:**\n",
    " \n",
    "We recommend to supply the raw data in form of **one zip archive per acquisition session**.\n",
    "This zip archive should contain the `.mcd` file and all `.txt` files corresponding to individual acquisitions.\n",
    " \n",
    "To understand the output format, please refer to the [Output](https://bodenmillergroup.github.io/ImcSegmentationPipeline/output.html) documentation.\n",
    " \n",
    "Please raise an issue [here](https://github.com/BodenmillerGroup/ImcSegmentationPipeline/issues) for feedback, bug fixes and feature requests."
   ]
  },
  {
   "cell_type": "markdown",
   "id": "46bc907c",
   "metadata": {},
   "source": [
    "## Specify the inputs\n",
    "\n",
    "Here, you will need to specify where the IMC raw data (in form of `.zip` archives) are stored.\n",
    "The `raw_dirs` variable describes the path (one or multiple) where the `.zip` archives are located.\n",
    "Here, we use the example data (located in the `raw` folder) to run the pre-processing part of the pipeline.\n",
    "The `file_regex` variable specifies a [glob](https://towardsdatascience.com/the-python-glob-module-47d82f4cbd2d) entry to select all files of interest from the input directory.\n",
    "As an example: if you want to select all files that contain the word \"Patient\", you would use the glob expression `\"*Patient*.zip\"`.\n",
    " \n",
    "You will also need to specify the location of the panel file (`panel_file`) that contains information regarding the column that contains the metal/channel name (`panel_channel_col`), the column that contains an identifier if the channel should be used for ilastik training (`panel_ilastik_col`), and the column that contains an identifier if the channel should be used to generate the final stack of channels (`panel_keep_col`). The latter two arguments specify columns which contain 0s or 1s, 1 meaning the indicated channel is used and 0 meaning the channel is not used."
   ]
  },
  {
   "cell_type": "code",
   "execution_count": 2,
   "id": "59626637",
   "metadata": {
    "tags": []
   },
   "outputs": [],
   "source": [
    "# the paths with the ziped acquisition files\n",
    "raw_dirs = [\"../raw\"]\n",
    "raw_dirs = [Path(raw_dir) for raw_dir in raw_dirs]\n",
    "\n",
    "# regular expression to select files\n",
    "file_regex = \"*Patient*.zip\"\n",
    "\n",
    "# panel information\n",
    "panel_file = \"../raw/panel.csv\"\n",
    "panel_channel_col = \"Metal Tag\"\n",
    "panel_keep_col = \"full\"\n",
    "panel_ilastik_col = \"ilastik\""
   ]
  },
  {
   "cell_type": "markdown",
   "id": "25e18243",
   "metadata": {},
   "source": [
    "## Specify the outputs\n",
    "\n",
    "You will need to specify a single folder where the output files of the pipeline are written out to (`work_dir`).\n",
    "Within the working directory, the following sub-folder will be created:\n",
    "\n",
    "* `acquisitions_dir`: storing individual acquisitions as `.ome.tiff` files, panoramas as `.png` and acquisition metadata (default `analysis/ometiff`)\n",
    "* `ilastik_dir`: storing multi-channel images in `.tiff` format for ilastik training. The channel order for each image is written out in `.csv` format (default `analysis/ilastik`). Following the CellProfiler pipelines, all files related to the ilastik segmentation approach will be stored here. \n",
    "* `crops_dir`: stores image crops for ilastik training after running the first CellProfiler pipeline (default `analysis/crops`)\n",
    "* `cellprofiler_input_dir`: all files needed for CellProfiler input (default `analysis/cpinp`)\n",
    "* `cellprofiler_output_dir`: all files written out by CellProfiler (default `analysis/cpout`)\n",
    "* `histocat_dir`: folders containing single-channel images for histoCAT upload (default `analysis/histocat`)\n",
    "\n",
    "Within the `cellprofiler_output_dir` three subfolders are created storing the final images:\n",
    "\n",
    "* `final_images_dir`: stores the hot pixel filtered multi-channel images containing selected channels (default `analysis/cpout/images`)\n",
    "* `final_masks_dir`: stores the final cell segmentation masks (default `analysis/cpout/masks`)\n",
    "* `final_probabilities_dir`: stores the downscaled pixel probabilities after ilastik classification (default `analysis/cpout/probabilities`)"
   ]
  },
  {
   "cell_type": "code",
   "execution_count": 3,
   "id": "281ad642",
   "metadata": {
    "tags": []
   },
   "outputs": [],
   "source": [
    "# working directory storing all outputs\n",
    "work_dir = \"../analysis\"\n",
    "work_dir = Path(work_dir)\n",
    "work_dir.mkdir(exist_ok=True)\n",
    "\n",
    "# general output directories\n",
    "acquisitions_dir = work_dir / \"ometiff\"\n",
    "ilastik_dir = work_dir / \"ilastik\"\n",
    "crops_dir = work_dir / \"crops\"\n",
    "cellprofiler_input_dir = work_dir / \"cpinp\"\n",
    "cellprofiler_output_dir = work_dir / \"cpout\"\n",
    "histocat_dir = work_dir / \"histocat\"\n",
    "\n",
    "# Final output directories\n",
    "final_images_dir = cellprofiler_output_dir / \"images\"\n",
    "final_masks_dir = cellprofiler_output_dir / \"masks\"\n",
    "final_probabilities_dir = cellprofiler_output_dir / \"probabilities\""
   ]
  },
  {
   "cell_type": "markdown",
   "id": "0c57361d",
   "metadata": {},
   "source": [
    "The specified folder will now be created."
   ]
  },
  {
   "cell_type": "code",
   "execution_count": 4,
   "id": "0ac63953",
   "metadata": {
    "tags": []
   },
   "outputs": [],
   "source": [
    "acquisitions_dir.mkdir(exist_ok=True)\n",
    "crops_dir.mkdir(exist_ok=True)\n",
    "ilastik_dir.mkdir(exist_ok=True)\n",
    "cellprofiler_input_dir.mkdir(exist_ok=True)\n",
    "cellprofiler_output_dir.mkdir(exist_ok=True)\n",
    "histocat_dir.mkdir(exist_ok=True)\n",
    "\n",
    "final_images_dir.mkdir(exist_ok=True)\n",
    "final_masks_dir.mkdir(exist_ok=True)\n",
    "final_probabilities_dir.mkdir(exist_ok=True)"
   ]
  },
  {
   "cell_type": "markdown",
   "id": "7b80dc4b",
   "metadata": {},
   "source": [
    "## Convert `.mcd` files to `.ome.tiff` files\n",
    "\n",
    "In the first step, the `.zip` archives containing `.mcd` files are converted to folders, which contain `.ome.tiff` files, channel metadata files, panoramas and slide overviews. The `.ome.tiff` files can be read in by commercial and open-source software such as `ImageJ` using the BioFormats importer. The `.csv` files contain the order of the channels as well as the antibody names. The `_pano.png` contain the acquired panoramas; the `_slide.png` contains the slide overview. The `_schema.xml` contains metadata regarding the acquisition session.  \n",
    "At this stage, only `.zip` files specified by `file_regex` will be processed.\n",
    "\n",
    "In the following chunk, individual acquisition metadata are written out as `acquisition_metadata.csv` file in the `cellprofiler_output_dir` folder. "
   ]
  },
  {
   "cell_type": "code",
   "execution_count": 5,
   "id": "1169391e",
   "metadata": {
    "tags": []
   },
   "outputs": [],
   "source": [
    "temp_dirs: List[TemporaryDirectory] = []\n",
    "\n",
    "try:\n",
    "    for raw_dir in raw_dirs:\n",
    "        zip_files = list(raw_dir.rglob(file_regex))\n",
    "        if len(zip_files) > 0:\n",
    "            temp_dir = TemporaryDirectory()\n",
    "            temp_dirs.append(temp_dir)\n",
    "            for zip_file in sorted(zip_files):\n",
    "                imcsegpipe.extract_zip_file(zip_file, temp_dir.name)\n",
    "    acquisition_metadatas = []\n",
    "    for raw_dir in raw_dirs + [Path(temp_dir.name) for temp_dir in temp_dirs]:\n",
    "        mcd_files = list(raw_dir.rglob(\"*.mcd\"))\n",
    "        mcd_files=[(i) for i in mcd_files if not i.stem.startswith('.')]\n",
    "        if len(mcd_files) > 0:\n",
    "            txt_files = list(raw_dir.rglob(\"*.txt\"))\n",
    "            txt_files=[(i) for i in txt_files if not i.stem.startswith('.')]\n",
    "            matched_txt_files = imcsegpipe.match_txt_files(mcd_files, txt_files)\n",
    "            for mcd_file in mcd_files:\n",
    "                acquisition_metadata = imcsegpipe.extract_mcd_file(\n",
    "                    mcd_file,\n",
    "                    acquisitions_dir / mcd_file.stem,\n",
    "                    txt_files=matched_txt_files[mcd_file],\n",
    "                )\n",
    "                acquisition_metadatas.append(acquisition_metadata)\n",
    "    acquisition_metadata = pd.concat(acquisition_metadatas, copy=False)\n",
    "    acquisition_metadata.to_csv(cellprofiler_input_dir / \"acquisition_metadata.csv\")\n",
    "finally:\n",
    "    for temp_dir in temp_dirs:\n",
    "        temp_dir.cleanup()\n",
    "    del temp_dirs"
   ]
  },
  {
   "cell_type": "markdown",
   "id": "a17734dd-4681-482f-ae1e-cdb3c8eb18bf",
   "metadata": {},
   "source": [
    "Here, a copy of the panel file is transferred to the `cellprofiler_output_dir`. "
   ]
  },
  {
   "cell_type": "code",
   "execution_count": 6,
   "id": "ce4a4040",
   "metadata": {
    "tags": []
   },
   "outputs": [
    {
     "data": {
      "text/plain": [
       "PosixPath('../analysis/cpout/panel.csv')"
      ]
     },
     "execution_count": 6,
     "metadata": {},
     "output_type": "execute_result"
    }
   ],
   "source": [
    "shutil.copy2(panel_file, cellprofiler_output_dir / \"panel.csv\")"
   ]
  },
  {
   "cell_type": "markdown",
   "id": "1a304e00",
   "metadata": {},
   "source": [
    "## Convert `.ome.tiff` files to `histoCAT` compatible format\n",
    "\n",
    "In the next step, we will convert the generated `.ome.tiff` files to a format that [histoCAT](https://bodenmillergroup.github.io/histoCAT/) can read.\n",
    "For each acquistion (each `.ome.tiff` file), the `export_to_histocat` function call produces one folder that contains single channel tiff files. All channels contained in the `.ome.tiff` files are written out."
   ]
  },
  {
   "cell_type": "code",
   "execution_count": 7,
   "id": "0dc3d319",
   "metadata": {
    "tags": []
   },
   "outputs": [],
   "source": [
    "for acquisition_dir in acquisitions_dir.glob(\"[!.]*\"):\n",
    "    if acquisition_dir.is_dir():\n",
    "        imcsegpipe.export_to_histocat(acquisition_dir, histocat_dir)"
   ]
  },
  {
   "cell_type": "markdown",
   "id": "78e3c843",
   "metadata": {},
   "source": [
    "## Generate image stacks for downstream analyses\n",
    "\n",
    "Next, we will generate two stacks of multi-channel `.tiff` images:\n",
    "\n",
    "**1. Full stack:** The full stack contains all channels specified by the \"1\" entries in the `panel_keep_col` column of the panel file. This stack will be later used to measure cell-specific expression features of the selected channels.\n",
    "\n",
    "**2. Ilastik stack:** The ilastik stack contains all channels specified by the \"1\" entries in the `panel_ilastik_col` column of the panel file. This stack will be used to perform the ilastik training to generate cell, cytoplasm and background probability masks (see [Ilastik training](https://bodenmillergroup.github.io/ImcSegmentationPipeline/ilastik.html)).\n",
    "\n",
    "**Of note:** Both image stacks are now by default hot pixel filtered (see below). To write out the raw image data without filtering set `hpf=None`.\n",
    "\n",
    "The `create_analysis_stacks` function takes several arguments:\n",
    "\n",
    "* `acquisition_dir`: specifies the folder containing the `.ome.tiff` files.  \n",
    "* `analysis_dir`: specifies the folder where the `.tiff` stacks should be stored.  \n",
    "* `analysis_channels`: specifies the channel names used for the specific image stack.  \n",
    "* `suffix`: the suffix to be added at the end of the file name.\n",
    "* `hpf`: single number indicating the threshold for hot pixel filtering (see below). Setting `hpf=None` disables hot pixel filtering. \n",
    "\n",
    "**Hot pixel filtering:** Each pixel intensity is compared against the maximum intensity of the 3x3 neighboring pixels. If the difference is larger than `hpf`, the pixel intensity is clipped to the maximum intensity in the 3x3 neighborhood. "
   ]
  },
  {
   "cell_type": "code",
   "execution_count": 8,
   "id": "320202b6",
   "metadata": {
    "tags": []
   },
   "outputs": [],
   "source": [
    "panel: pd.DataFrame = pd.read_csv(panel_file)\n",
    "\n",
    "for acquisition_dir in acquisitions_dir.glob(\"[!.]*\"):\n",
    "    if acquisition_dir.is_dir():\n",
    "        # Write full stack\n",
    "        imcsegpipe.create_analysis_stacks(\n",
    "            acquisition_dir=acquisition_dir,\n",
    "            analysis_dir=final_images_dir,\n",
    "            analysis_channels=sort_channels_by_mass(\n",
    "                panel.loc[panel[panel_keep_col] == 1, panel_channel_col].tolist()\n",
    "            ),\n",
    "            suffix=\"_full\",\n",
    "            hpf=50.0,\n",
    "        )\n",
    "        # Write ilastik stack\n",
    "        imcsegpipe.create_analysis_stacks(\n",
    "            acquisition_dir=acquisition_dir,\n",
    "            analysis_dir=ilastik_dir,\n",
    "            analysis_channels=sort_channels_by_mass(\n",
    "                panel.loc[panel[panel_ilastik_col] == 1, panel_channel_col].tolist()\n",
    "            ),\n",
    "            suffix=\"_ilastik\",\n",
    "            hpf=50.0,\n",
    "        )"
   ]
  },
  {
   "cell_type": "markdown",
   "id": "5ab99527",
   "metadata": {},
   "source": [
    "## Export additional metadata\n",
    "\n",
    "Finally, we will copy a file that contains the correct order of channels for the exported full stacks to the `cellprofiler_input_dir`."
   ]
  },
  {
   "cell_type": "code",
   "execution_count": 9,
   "id": "ece67368",
   "metadata": {
    "tags": []
   },
   "outputs": [
    {
     "data": {
      "text/plain": [
       "PosixPath('../analysis/cpinp/full_channelmeta.csv')"
      ]
     },
     "execution_count": 9,
     "metadata": {},
     "output_type": "execute_result"
    }
   ],
   "source": [
    "first_channel_order_file = next(final_images_dir.glob(\"[!.]*_full.csv\"))\n",
    "shutil.copy2(first_channel_order_file, cellprofiler_input_dir / \"full_channelmeta.csv\")"
   ]
  },
  {
   "cell_type": "markdown",
   "id": "0b65ffd8",
   "metadata": {},
   "source": [
    "We will also generate channel metadata for the probability stack (see [Ilastik training](https://bodenmillergroup.github.io/ImcSegmentationPipeline/ilastik.html))."
   ]
  },
  {
   "cell_type": "code",
   "execution_count": 10,
   "id": "d7a25f2b",
   "metadata": {
    "tags": []
   },
   "outputs": [],
   "source": [
    "probab_meta = [\"CellCenter\", \"CellBorder\", \"Background\"]\n",
    "with open(cellprofiler_input_dir / \"probab_channelmeta_manual.csv\", \"w\") as f:\n",
    "    f.write(\"\\n\".join(probab_meta))"
   ]
  },
  {
   "cell_type": "markdown",
   "id": "f5d4cb54",
   "metadata": {},
   "source": [
    "This concludes the pre-processing of the raw image files. In [the next step](https://bodenmillergroup.github.io/ImcSegmentationPipeline/ilastik.html), we will prepare the images for ilastik pixel classification."
   ]
  },
  {
   "cell_type": "markdown",
   "id": "79e364ec",
   "metadata": {},
   "source": [
    "## Generate the histocat folder with masks (optional)\n",
    "\n",
    "This function can be used to convert the `.ome.tiff` files together with the mask files, which are generated in the [segmentation step](https://bodenmillergroup.github.io/ImcSegmentationPipeline/segmentation.html) to a format that is recognized by the `histoCAT` software. To use the function you will need to remove `#` from the following code chunk."
   ]
  },
  {
   "cell_type": "code",
   "execution_count": 12,
   "id": "83673a33",
   "metadata": {},
   "outputs": [],
   "source": [
    "#for acquisition_dir in acquisitions_dir.glob(\"[!.]*\"):\n",
    "#    if acquisition_dir.is_dir():\n",
    "#        imcsegpipe.export_to_histocat(\n",
    "#            acquisition_dir, histocat_dir, mask_dir=final_masks_dir\n",
    "#        )"
   ]
  },
  {
   "cell_type": "code",
   "execution_count": 11,
   "id": "e6cb34d5",
   "metadata": {
    "tags": []
   },
   "outputs": [
    {
     "name": "stdout",
     "output_type": "stream",
     "text": [
      "# packages in environment at /Users/nils/opt/anaconda3/envs/imcsegpipe:\n",
      "#\n",
      "# Name                    Version                   Build  Channel\n",
      "anyio                     3.6.2              pyhd8ed1ab_0    conda-forge\n",
      "appnope                   0.1.3              pyhd8ed1ab_0    conda-forge\n",
      "argon2-cffi               21.3.0             pyhd8ed1ab_0    conda-forge\n",
      "argon2-cffi-bindings      21.2.0           py39ha30fb19_3    conda-forge\n",
      "asttokens                 2.2.1              pyhd8ed1ab_0    conda-forge\n",
      "async-lru                 2.0.2              pyhd8ed1ab_0    conda-forge\n",
      "attrs                     23.1.0             pyh71513ae_1    conda-forge\n",
      "babel                     2.12.1             pyhd8ed1ab_1    conda-forge\n",
      "backcall                  0.2.0              pyh9f0ad1d_0    conda-forge\n",
      "backports                 1.0                pyhd8ed1ab_3    conda-forge\n",
      "backports.functools_lru_cache 1.6.4              pyhd8ed1ab_0    conda-forge\n",
      "beautifulsoup4            4.12.2             pyha770c72_0    conda-forge\n",
      "bleach                    6.0.0              pyhd8ed1ab_0    conda-forge\n",
      "brotli                    1.0.9                hb7f2c08_8    conda-forge\n",
      "brotli-bin                1.0.9                hb7f2c08_8    conda-forge\n",
      "bzip2                     1.0.8                h0d85af4_4    conda-forge\n",
      "ca-certificates           2023.5.7             h8857fd0_0    conda-forge\n",
      "certifi                   2023.5.7           pyhd8ed1ab_0    conda-forge\n",
      "cffi                      1.15.1           py39h131948b_3    conda-forge\n",
      "charset-normalizer        3.1.0              pyhd8ed1ab_0    conda-forge\n",
      "comm                      0.1.3              pyhd8ed1ab_0    conda-forge\n",
      "debugpy                   1.6.7            py39h7a8716b_0    conda-forge\n",
      "decorator                 5.1.1              pyhd8ed1ab_0    conda-forge\n",
      "defusedxml                0.7.1              pyhd8ed1ab_0    conda-forge\n",
      "entrypoints               0.4                pyhd8ed1ab_0    conda-forge\n",
      "executing                 1.2.0              pyhd8ed1ab_0    conda-forge\n",
      "flit-core                 3.9.0              pyhd8ed1ab_0    conda-forge\n",
      "idna                      3.4                pyhd8ed1ab_0    conda-forge\n",
      "imageio                   2.30.0                   pypi_0    pypi\n",
      "imcsegpipe                1.0.0                    pypi_0    pypi\n",
      "importlib-metadata        6.6.0              pyha770c72_0    conda-forge\n",
      "importlib_metadata        6.6.0                hd8ed1ab_0    conda-forge\n",
      "importlib_resources       5.12.0             pyhd8ed1ab_0    conda-forge\n",
      "ipykernel                 6.23.1             pyh736e0ef_0    conda-forge\n",
      "ipython                   8.13.2             pyhd1c38e8_0    conda-forge\n",
      "jedi                      0.18.2             pyhd8ed1ab_0    conda-forge\n",
      "jinja2                    3.1.2              pyhd8ed1ab_1    conda-forge\n",
      "json5                     0.9.5              pyh9f0ad1d_0    conda-forge\n",
      "jsonschema                4.17.3             pyhd8ed1ab_0    conda-forge\n",
      "jupyter-lsp               2.1.0              pyhd8ed1ab_0    conda-forge\n",
      "jupyter_client            8.2.0              pyhd8ed1ab_0    conda-forge\n",
      "jupyter_core              5.3.0            py39h6e9494a_0    conda-forge\n",
      "jupyter_events            0.6.3              pyhd8ed1ab_0    conda-forge\n",
      "jupyter_server            2.6.0              pyhd8ed1ab_0    conda-forge\n",
      "jupyter_server_terminals  0.4.4              pyhd8ed1ab_1    conda-forge\n",
      "jupyterlab                4.0.0              pyhd8ed1ab_1    conda-forge\n",
      "jupyterlab_pygments       0.2.2              pyhd8ed1ab_0    conda-forge\n",
      "jupyterlab_server         2.22.1             pyhd8ed1ab_0    conda-forge\n",
      "jupytext                  1.14.5             pyhcff175f_0    conda-forge\n",
      "libbrotlicommon           1.0.9                hb7f2c08_8    conda-forge\n",
      "libbrotlidec              1.0.9                hb7f2c08_8    conda-forge\n",
      "libbrotlienc              1.0.9                hb7f2c08_8    conda-forge\n",
      "libcxx                    16.0.4               hd57cbcb_0    conda-forge\n",
      "libffi                    3.4.2                h0d85af4_5    conda-forge\n",
      "libsodium                 1.0.18               hbcb3906_1    conda-forge\n",
      "libsqlite                 3.42.0               h58db7d2_0    conda-forge\n",
      "libzlib                   1.2.13               hfd90126_4    conda-forge\n",
      "markdown-it-py            2.2.0              pyhd8ed1ab_0    conda-forge\n",
      "markupsafe                2.1.2            py39ha30fb19_0    conda-forge\n",
      "matplotlib-inline         0.1.6              pyhd8ed1ab_0    conda-forge\n",
      "mdit-py-plugins           0.3.5              pyhd8ed1ab_0    conda-forge\n",
      "mdurl                     0.1.0              pyhd8ed1ab_0    conda-forge\n",
      "mistune                   2.0.5              pyhd8ed1ab_0    conda-forge\n",
      "nbclient                  0.8.0              pyhd8ed1ab_0    conda-forge\n",
      "nbconvert-core            7.4.0              pyhd8ed1ab_0    conda-forge\n",
      "nbformat                  5.8.0              pyhd8ed1ab_0    conda-forge\n",
      "ncurses                   6.3                  h96cf925_1    conda-forge\n",
      "nest-asyncio              1.5.6              pyhd8ed1ab_0    conda-forge\n",
      "notebook-shim             0.2.3              pyhd8ed1ab_0    conda-forge\n",
      "numpy                     1.24.3                   pypi_0    pypi\n",
      "openssl                   3.1.0                h8a1eda9_3    conda-forge\n",
      "overrides                 7.3.1              pyhd8ed1ab_0    conda-forge\n",
      "packaging                 23.1               pyhd8ed1ab_0    conda-forge\n",
      "pandas                    2.0.2                    pypi_0    pypi\n",
      "pandocfilters             1.5.0              pyhd8ed1ab_0    conda-forge\n",
      "parso                     0.8.3              pyhd8ed1ab_0    conda-forge\n",
      "pexpect                   4.8.0              pyh1a96a4e_2    conda-forge\n",
      "pickleshare               0.7.5                   py_1003    conda-forge\n",
      "pillow                    9.5.0                    pypi_0    pypi\n",
      "pip                       23.1.2             pyhd8ed1ab_0    conda-forge\n",
      "pkgutil-resolve-name      1.3.10             pyhd8ed1ab_0    conda-forge\n",
      "platformdirs              3.5.1              pyhd8ed1ab_0    conda-forge\n",
      "prometheus_client         0.17.0             pyhd8ed1ab_0    conda-forge\n",
      "prompt-toolkit            3.0.38             pyha770c72_0    conda-forge\n",
      "prompt_toolkit            3.0.38               hd8ed1ab_0    conda-forge\n",
      "psutil                    5.9.5            py39ha30fb19_0    conda-forge\n",
      "ptyprocess                0.7.0              pyhd3deb0d_0    conda-forge\n",
      "pure_eval                 0.2.2              pyhd8ed1ab_0    conda-forge\n",
      "pycparser                 2.21               pyhd8ed1ab_0    conda-forge\n",
      "pygments                  2.15.1             pyhd8ed1ab_0    conda-forge\n",
      "pyobjc-core               9.1.1            py39h0504f80_0    conda-forge\n",
      "pyobjc-framework-cocoa    9.1.1            py39h0504f80_0    conda-forge\n",
      "pyrsistent                0.19.3           py39ha30fb19_0    conda-forge\n",
      "pysocks                   1.7.1              pyha2e5f31_6    conda-forge\n",
      "python                    3.9.16          h709bd14_0_cpython    conda-forge\n",
      "python-dateutil           2.8.2              pyhd8ed1ab_0    conda-forge\n",
      "python-fastjsonschema     2.17.1             pyhd8ed1ab_0    conda-forge\n",
      "python-json-logger        2.0.7              pyhd8ed1ab_0    conda-forge\n",
      "python_abi                3.9                      3_cp39    conda-forge\n",
      "pytz                      2023.3             pyhd8ed1ab_0    conda-forge\n",
      "pyyaml                    6.0              py39ha30fb19_5    conda-forge\n",
      "pyzmq                     25.0.2           py39hed8f129_0    conda-forge\n",
      "readimc                   0.6.2                    pypi_0    pypi\n",
      "readline                  8.2                  h9e318b2_1    conda-forge\n",
      "requests                  2.31.0             pyhd8ed1ab_0    conda-forge\n",
      "rfc3339-validator         0.1.4              pyhd8ed1ab_0    conda-forge\n",
      "rfc3986-validator         0.1.1              pyh9f0ad1d_0    conda-forge\n",
      "scipy                     1.10.1                   pypi_0    pypi\n",
      "send2trash                1.8.2              pyhd1c38e8_0    conda-forge\n",
      "setuptools                67.7.2             pyhd8ed1ab_0    conda-forge\n",
      "six                       1.16.0             pyh6c4a22f_0    conda-forge\n",
      "sniffio                   1.3.0              pyhd8ed1ab_0    conda-forge\n",
      "soupsieve                 2.3.2.post1        pyhd8ed1ab_0    conda-forge\n",
      "stack_data                0.6.2              pyhd8ed1ab_0    conda-forge\n",
      "terminado                 0.17.1             pyhd1c38e8_0    conda-forge\n",
      "tifffile                  2023.4.12                pypi_0    pypi\n",
      "tinycss2                  1.2.1              pyhd8ed1ab_0    conda-forge\n",
      "tk                        8.6.12               h5dbffcc_0    conda-forge\n",
      "toml                      0.10.2             pyhd8ed1ab_0    conda-forge\n",
      "tomli                     2.0.1              pyhd8ed1ab_0    conda-forge\n",
      "tornado                   6.3.2            py39hdc70f33_0    conda-forge\n",
      "traitlets                 5.9.0              pyhd8ed1ab_0    conda-forge\n",
      "typing-extensions         4.6.2                hd8ed1ab_0    conda-forge\n",
      "typing_extensions         4.6.2              pyha770c72_0    conda-forge\n",
      "typing_utils              0.1.0              pyhd8ed1ab_0    conda-forge\n",
      "tzdata                    2023.3                   pypi_0    pypi\n",
      "urllib3                   2.0.2              pyhd8ed1ab_0    conda-forge\n",
      "wcwidth                   0.2.6              pyhd8ed1ab_0    conda-forge\n",
      "webencodings              0.5.1                      py_1    conda-forge\n",
      "websocket-client          1.5.2              pyhd8ed1ab_0    conda-forge\n",
      "wheel                     0.40.0             pyhd8ed1ab_0    conda-forge\n",
      "xtiff                     0.7.9                    pypi_0    pypi\n",
      "xz                        5.2.6                h775f41a_0    conda-forge\n",
      "yaml                      0.2.5                h0d85af4_2    conda-forge\n",
      "zeromq                    4.3.4                he49afe7_1    conda-forge\n",
      "zipp                      3.15.0             pyhd8ed1ab_0    conda-forge\n"
     ]
    }
   ],
   "source": [
    "!conda list"
   ]
  },
  {
   "cell_type": "code",
   "execution_count": null,
   "id": "688e2f34-8852-49b1-9c67-5e711414f7bf",
   "metadata": {},
   "outputs": [],
   "source": []
  }
 ],
 "metadata": {
  "jupytext": {
   "cell_metadata_filter": "-all",
   "formats": "auto:percent,ipynb",
   "notebook_metadata_filter": "-all"
  },
  "kernelspec": {
   "display_name": "Python 3 (ipykernel)",
   "language": "python",
   "name": "python3"
  },
  "language_info": {
   "codemirror_mode": {
    "name": "ipython",
    "version": 3
   },
   "file_extension": ".py",
   "mimetype": "text/x-python",
   "name": "python",
   "nbconvert_exporter": "python",
   "pygments_lexer": "ipython3",
   "version": "3.9.16"
  }
 },
 "nbformat": 4,
 "nbformat_minor": 5
}
